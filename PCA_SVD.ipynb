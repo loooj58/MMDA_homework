{
 "cells": [
  {
   "cell_type": "code",
   "execution_count": 1,
   "metadata": {
    "id": "cd4isoppNv1P"
   },
   "outputs": [],
   "source": [
    "#!cp drive/MyDrive/data.csv data.csv"
   ]
  },
  {
   "cell_type": "code",
   "execution_count": 2,
   "metadata": {
    "id": "cjcM3AHeVRsc"
   },
   "outputs": [],
   "source": [
    "import pandas as pd\n",
    "import numpy as np"
   ]
  },
  {
   "cell_type": "code",
   "execution_count": 3,
   "metadata": {
    "id": "aIydzz4vVhh_"
   },
   "outputs": [],
   "source": [
    "data = pd.read_csv('data.csv')"
   ]
  },
  {
   "cell_type": "code",
   "execution_count": 4,
   "metadata": {
    "id": "9Fw8O-zzVjlP"
   },
   "outputs": [],
   "source": [
    "data_chosen = data[['LotArea', 'GarageArea', 'LotFrontage', 'SalePrice']]\n",
    "\n",
    "data_chosen = data_chosen.fillna(0)"
   ]
  },
  {
   "cell_type": "code",
   "execution_count": 5,
   "metadata": {
    "colab": {
     "base_uri": "https://localhost:8080/",
     "height": 419
    },
    "id": "_N1rerwCWXK-",
    "outputId": "43dafcdb-49a9-478c-e361-f3ce4dbe5898"
   },
   "outputs": [
    {
     "data": {
      "text/html": [
       "<div>\n",
       "<style scoped>\n",
       "    .dataframe tbody tr th:only-of-type {\n",
       "        vertical-align: middle;\n",
       "    }\n",
       "\n",
       "    .dataframe tbody tr th {\n",
       "        vertical-align: top;\n",
       "    }\n",
       "\n",
       "    .dataframe thead th {\n",
       "        text-align: right;\n",
       "    }\n",
       "</style>\n",
       "<table border=\"1\" class=\"dataframe\">\n",
       "  <thead>\n",
       "    <tr style=\"text-align: right;\">\n",
       "      <th></th>\n",
       "      <th>LotArea</th>\n",
       "      <th>GarageArea</th>\n",
       "      <th>LotFrontage</th>\n",
       "      <th>SalePrice</th>\n",
       "    </tr>\n",
       "  </thead>\n",
       "  <tbody>\n",
       "    <tr>\n",
       "      <th>0</th>\n",
       "      <td>5925</td>\n",
       "      <td>672</td>\n",
       "      <td>50.0</td>\n",
       "      <td>89471</td>\n",
       "    </tr>\n",
       "    <tr>\n",
       "      <th>1</th>\n",
       "      <td>9158</td>\n",
       "      <td>474</td>\n",
       "      <td>76.0</td>\n",
       "      <td>225000</td>\n",
       "    </tr>\n",
       "    <tr>\n",
       "      <th>2</th>\n",
       "      <td>12400</td>\n",
       "      <td>297</td>\n",
       "      <td>66.0</td>\n",
       "      <td>155000</td>\n",
       "    </tr>\n",
       "    <tr>\n",
       "      <th>3</th>\n",
       "      <td>8520</td>\n",
       "      <td>720</td>\n",
       "      <td>71.0</td>\n",
       "      <td>166000</td>\n",
       "    </tr>\n",
       "    <tr>\n",
       "      <th>4</th>\n",
       "      <td>17217</td>\n",
       "      <td>0</td>\n",
       "      <td>90.0</td>\n",
       "      <td>84500</td>\n",
       "    </tr>\n",
       "    <tr>\n",
       "      <th>...</th>\n",
       "      <td>...</td>\n",
       "      <td>...</td>\n",
       "      <td>...</td>\n",
       "      <td>...</td>\n",
       "    </tr>\n",
       "    <tr>\n",
       "      <th>1455</th>\n",
       "      <td>3180</td>\n",
       "      <td>480</td>\n",
       "      <td>30.0</td>\n",
       "      <td>151000</td>\n",
       "    </tr>\n",
       "    <tr>\n",
       "      <th>1456</th>\n",
       "      <td>5000</td>\n",
       "      <td>420</td>\n",
       "      <td>50.0</td>\n",
       "      <td>159000</td>\n",
       "    </tr>\n",
       "    <tr>\n",
       "      <th>1457</th>\n",
       "      <td>8640</td>\n",
       "      <td>552</td>\n",
       "      <td>72.0</td>\n",
       "      <td>229456</td>\n",
       "    </tr>\n",
       "    <tr>\n",
       "      <th>1458</th>\n",
       "      <td>12182</td>\n",
       "      <td>532</td>\n",
       "      <td>95.0</td>\n",
       "      <td>220000</td>\n",
       "    </tr>\n",
       "    <tr>\n",
       "      <th>1459</th>\n",
       "      <td>7128</td>\n",
       "      <td>240</td>\n",
       "      <td>53.0</td>\n",
       "      <td>164000</td>\n",
       "    </tr>\n",
       "  </tbody>\n",
       "</table>\n",
       "<p>1460 rows × 4 columns</p>\n",
       "</div>"
      ],
      "text/plain": [
       "      LotArea  GarageArea  LotFrontage  SalePrice\n",
       "0        5925         672         50.0      89471\n",
       "1        9158         474         76.0     225000\n",
       "2       12400         297         66.0     155000\n",
       "3        8520         720         71.0     166000\n",
       "4       17217           0         90.0      84500\n",
       "...       ...         ...          ...        ...\n",
       "1455     3180         480         30.0     151000\n",
       "1456     5000         420         50.0     159000\n",
       "1457     8640         552         72.0     229456\n",
       "1458    12182         532         95.0     220000\n",
       "1459     7128         240         53.0     164000\n",
       "\n",
       "[1460 rows x 4 columns]"
      ]
     },
     "execution_count": 5,
     "metadata": {},
     "output_type": "execute_result"
    }
   ],
   "source": [
    "data_chosen"
   ]
  },
  {
   "cell_type": "code",
   "execution_count": 6,
   "metadata": {
    "id": "JW5LW4udWRIC"
   },
   "outputs": [],
   "source": [
    "data_array = np.array(data_chosen)"
   ]
  },
  {
   "cell_type": "markdown",
   "metadata": {
    "id": "laaCwvNWVwl3"
   },
   "source": [
    "## Part 2"
   ]
  },
  {
   "cell_type": "markdown",
   "metadata": {
    "id": "2UWLL09BWslI"
   },
   "source": [
    "### Standartization"
   ]
  },
  {
   "cell_type": "code",
   "execution_count": 7,
   "metadata": {
    "colab": {
     "base_uri": "https://localhost:8080/"
    },
    "id": "Grp-1zLLVs-O",
    "outputId": "f4ad21a3-c7fb-44c0-bcb9-7169215c08b3"
   },
   "outputs": [
    {
     "data": {
      "text/plain": [
       "(1460, 4)"
      ]
     },
     "execution_count": 7,
     "metadata": {},
     "output_type": "execute_result"
    }
   ],
   "source": [
    "data_array.shape"
   ]
  },
  {
   "cell_type": "code",
   "execution_count": 8,
   "metadata": {
    "id": "kC6mmG_PW05v"
   },
   "outputs": [],
   "source": [
    "means = np.mean(data_array, axis=0)\n",
    "mins = np.min(data_array, axis=0)\n",
    "maxs = np.max(data_array, axis=0)\n",
    "stds = np.std(data_array, axis=0)"
   ]
  },
  {
   "cell_type": "code",
   "execution_count": 9,
   "metadata": {
    "colab": {
     "base_uri": "https://localhost:8080/"
    },
    "id": "jGbd0jUqW9pX",
    "outputId": "44de5d68-7f53-4157-b936-f65c1cdfa3be"
   },
   "outputs": [
    {
     "data": {
      "text/plain": [
       "((4,), (4,), (4,), (4,))"
      ]
     },
     "execution_count": 9,
     "metadata": {},
     "output_type": "execute_result"
    }
   ],
   "source": [
    "means.shape, mins.shape, maxs.shape, stds.shape"
   ]
  },
  {
   "cell_type": "code",
   "execution_count": 10,
   "metadata": {
    "id": "PEnVyf3PW-Vf"
   },
   "outputs": [],
   "source": [
    "z_data_array = (data_array - means) / stds\n",
    "range_data_array = (data_array - means) / (maxs - mins)\n",
    "rank_data_array = (data_array - mins) / (maxs - mins)"
   ]
  },
  {
   "cell_type": "code",
   "execution_count": 11,
   "metadata": {
    "colab": {
     "base_uri": "https://localhost:8080/"
    },
    "id": "7AHbpFjLXZ_4",
    "outputId": "2063c3dd-638f-408a-cb36-7c0b5488859d"
   },
   "outputs": [
    {
     "data": {
      "text/plain": [
       "(1460, 4)"
      ]
     },
     "execution_count": 11,
     "metadata": {},
     "output_type": "execute_result"
    }
   ],
   "source": [
    "range_data_array.shape"
   ]
  },
  {
   "cell_type": "markdown",
   "metadata": {
    "id": "rdjm7S6RZuSL"
   },
   "source": [
    "### Вычисление data scatter, SVD"
   ]
  },
  {
   "cell_type": "code",
   "execution_count": 12,
   "metadata": {
    "id": "FnEcwnQddWcN"
   },
   "outputs": [],
   "source": [
    "#No preprocessing\n",
    "no_preprocess_ds = np.sum(data_array ** 2)\n",
    "no_preprocess_z, no_preprocess_mu, no_preprocess_c = np.linalg.svd(data_array, full_matrices=True)\n",
    "\n",
    "no_preprocess_z = -no_preprocess_z\n",
    "no_preprocess_c = -no_preprocess_c"
   ]
  },
  {
   "cell_type": "code",
   "execution_count": 13,
   "metadata": {
    "id": "y2gUtvQSX7ej"
   },
   "outputs": [],
   "source": [
    "#Z rescaling\n",
    "z_ds = np.sum(z_data_array ** 2)\n",
    "z_z, z_mu, z_c = np.linalg.svd(z_data_array, full_matrices=True)\n",
    "\n",
    "z_z = -z_z\n",
    "z_c = -z_c"
   ]
  },
  {
   "cell_type": "code",
   "execution_count": 14,
   "metadata": {
    "id": "1Ea4x5BtZ_Ks"
   },
   "outputs": [],
   "source": [
    "#Range rescaling\n",
    "range_ds = np.sum(range_data_array ** 2)\n",
    "range_z, range_mu, range_c = np.linalg.svd(range_data_array, full_matrices=True)\n",
    "\n",
    "range_z = -range_z\n",
    "range_c = -range_c"
   ]
  },
  {
   "cell_type": "code",
   "execution_count": 15,
   "metadata": {
    "id": "0jZmm4C0apQA"
   },
   "outputs": [],
   "source": [
    "#Rank rescaling\n",
    "rank_ds = np.sum(rank_data_array ** 2)\n",
    "rank_z, rank_mu, rank_c = np.linalg.svd(rank_data_array, full_matrices=True)\n",
    "\n",
    "rank_z = -rank_z\n",
    "rank_c = -rank_c"
   ]
  },
  {
   "cell_type": "markdown",
   "metadata": {
    "id": "0xcV566NckvZ"
   },
   "source": [
    "### Contributions"
   ]
  },
  {
   "cell_type": "markdown",
   "metadata": {
    "id": "6lL7RavPcsC5"
   },
   "source": [
    "**Natural contributions**"
   ]
  },
  {
   "cell_type": "code",
   "execution_count": 16,
   "metadata": {
    "colab": {
     "base_uri": "https://localhost:8080/"
    },
    "id": "N-HxRhRQcWbZ",
    "outputId": "931ba869-8892-44a5-9b1f-ef6f06da1855"
   },
   "outputs": [
    {
     "name": "stdout",
     "output_type": "stream",
     "text": [
      "Z standartization: [2721.23635473 1317.52039218 1260.69702344  540.54622965]\n",
      "Range standartization: [44.0737501  16.494224    8.52518867  2.90406973]\n",
      "Rank standartization: [317.62555709  17.55675833   8.53650423   2.94324016]\n",
      "No standartization: [5.71648734e+13 1.39643388e+11 4.72807632e+07 1.92562095e+06]\n"
     ]
    }
   ],
   "source": [
    "print(f'Z standartization: {z_mu ** 2}')\n",
    "print(f'Range standartization: {range_mu ** 2}')\n",
    "print(f'Rank standartization: {rank_mu ** 2}')\n",
    "print(f'No standartization: {no_preprocess_mu ** 2}')"
   ]
  },
  {
   "cell_type": "markdown",
   "metadata": {
    "id": "UTlDx51MdJ3r"
   },
   "source": [
    "**Percent contributions**"
   ]
  },
  {
   "cell_type": "code",
   "execution_count": 17,
   "metadata": {
    "colab": {
     "base_uri": "https://localhost:8080/"
    },
    "id": "BsclnstjdBqf",
    "outputId": "46fb16de-5ff5-4085-8079-1bd02caec42b"
   },
   "outputs": [
    {
     "name": "stdout",
     "output_type": "stream",
     "text": [
      "Z standartization: [0.46596513 0.22560281 0.21587278 0.09255929]\n",
      "Range standartization: [0.61215895 0.22909525 0.11840995 0.04033585]\n",
      "Rank standartization: [0.91623974 0.05064517 0.02462486 0.00849023]\n",
      "No standartization: [9.97562278e-01 2.43686321e-03 8.25078463e-07 3.36032726e-08]\n"
     ]
    }
   ],
   "source": [
    "print(f'Z standartization: {z_mu ** 2 / z_ds}')\n",
    "print(f'Range standartization: {range_mu ** 2 / range_ds}')\n",
    "print(f'Rank standartization: {rank_mu ** 2 / rank_ds}')\n",
    "print(f'No standartization: {no_preprocess_mu ** 2 / no_preprocess_ds}')"
   ]
  },
  {
   "cell_type": "markdown",
   "metadata": {
    "id": "PWJ5eXM5eAxD"
   },
   "source": [
    "## Part 3"
   ]
  },
  {
   "cell_type": "code",
   "execution_count": 18,
   "metadata": {
    "id": "BUbHhILcdRWG"
   },
   "outputs": [],
   "source": [
    "#Rank rescaling\n",
    "rank_ds = np.sum(rank_data_array ** 2)\n",
    "rank_z, rank_mu, rank_c = np.linalg.svd(rank_data_array, full_matrices=True)\n",
    "\n",
    "#rank_z = -rank_z\n",
    "#rank_c = -rank_c"
   ]
  },
  {
   "cell_type": "code",
   "execution_count": 19,
   "metadata": {
    "id": "u8OTHTlaiDYY"
   },
   "outputs": [],
   "source": [
    "argmax_ind = np.argmax(rank_mu)"
   ]
  },
  {
   "cell_type": "code",
   "execution_count": 20,
   "metadata": {
    "id": "Nm-S9joxiYn5"
   },
   "outputs": [],
   "source": [
    "rank_z_vec = rank_z[:, argmax_ind]\n",
    "max_mu = rank_mu[argmax_ind]\n",
    "rank_c_vec = rank_c[argmax_ind, :]"
   ]
  },
  {
   "cell_type": "code",
   "execution_count": 21,
   "metadata": {
    "id": "h2tEufgliwAv"
   },
   "outputs": [],
   "source": [
    "alpha = 1.0/np.sum(rank_c_vec)\n",
    "loading = rank_c_vec * alpha"
   ]
  },
  {
   "cell_type": "code",
   "execution_count": 22,
   "metadata": {
    "colab": {
     "base_uri": "https://localhost:8080/"
    },
    "id": "qRjhmFhikFru",
    "outputId": "f29ab7b9-4226-49da-ec50-660b471b17b1"
   },
   "outputs": [
    {
     "data": {
      "text/plain": [
       "array([0.05440331, 0.44268863, 0.23282326, 0.2700848 ])"
      ]
     },
     "execution_count": 22,
     "metadata": {},
     "output_type": "execute_result"
    }
   ],
   "source": [
    "loading"
   ]
  },
  {
   "cell_type": "code",
   "execution_count": 23,
   "metadata": {
    "id": "GuWi9xjuixAm"
   },
   "outputs": [],
   "source": [
    "z_vec = np.matmul(rank_data_array, loading)"
   ]
  },
  {
   "cell_type": "code",
   "execution_count": 24,
   "metadata": {
    "colab": {
     "base_uri": "https://localhost:8080/"
    },
    "id": "kwCcKtn0jHeW",
    "outputId": "991211dc-97a4-4828-b92e-53edbd28632e"
   },
   "outputs": [
    {
     "data": {
      "text/plain": [
       "array([0.2686292 , 0.27780947, 0.18968279, ..., 0.30072466, 0.30894329,\n",
       "       0.16425285])"
      ]
     },
     "execution_count": 24,
     "metadata": {},
     "output_type": "execute_result"
    }
   ],
   "source": [
    "z_vec"
   ]
  },
  {
   "cell_type": "markdown",
   "metadata": {
    "id": "xkc76orMkf47"
   },
   "source": [
    "Интерпретация: все 4 фичи интерпретируются в самом начале, LotArea меньше всего, GarageArea больше всего"
   ]
  },
  {
   "cell_type": "markdown",
   "metadata": {
    "id": "w_PGfk5vlUeS"
   },
   "source": [
    "## Part 4"
   ]
  },
  {
   "cell_type": "code",
   "execution_count": 25,
   "metadata": {
    "id": "jwHR_lienDBS"
   },
   "outputs": [],
   "source": [
    "import matplotlib.pyplot as plt"
   ]
  },
  {
   "cell_type": "code",
   "execution_count": 30,
   "metadata": {
    "colab": {
     "base_uri": "https://localhost:8080/"
    },
    "id": "IOhFTjrNkBZk",
    "outputId": "a1e01a94-06d6-41c5-81e6-de895000af75"
   },
   "outputs": [
    {
     "name": "stdout",
     "output_type": "stream",
     "text": [
      "[  28   32   59   76   86  102  124  133  140  200  207  230  253  270\n",
      "  286  307  320  373  419  422  434  479  509  519  521  527  546  579\n",
      "  587  606  658  674  678  722  727  733  775  805  850  872  883  936\n",
      "  945  956  959 1128 1237 1240 1269 1291 1326 1381]\n"
     ]
    }
   ],
   "source": [
    "indices = np.where(data_array[:, -1] >= 360000)[0] \n",
    "print(indices)"
   ]
  },
  {
   "cell_type": "code",
   "execution_count": 31,
   "metadata": {
    "id": "qD8aCCFwmBih"
   },
   "outputs": [],
   "source": [
    "z_r0 = range_z[:, 0] * np.sqrt(range_mu[0])\n",
    "z_r1 = range_z[:, 1] * np.sqrt(range_mu[1])"
   ]
  },
  {
   "cell_type": "code",
   "execution_count": 32,
   "metadata": {
    "colab": {
     "base_uri": "https://localhost:8080/",
     "height": 299
    },
    "id": "EGaWxm18nIRV",
    "outputId": "917b4b36-b69a-4530-faa5-e43241c37c1f"
   },
   "outputs": [
    {
     "data": {
      "text/plain": [
       "Text(0.5, 1.0, 'PCA of Range Standartized Data')"
      ]
     },
     "execution_count": 32,
     "metadata": {},
     "output_type": "execute_result"
    },
    {
     "data": {
      "image/png": "[encoded data removed]",
      "text/plain": [
       "<Figure size 432x288 with 1 Axes>"
      ]
     },
     "metadata": {
      "needs_background": "light"
     },
     "output_type": "display_data"
    }
   ],
   "source": [
    "plt.scatter(z_r0, z_r1)\n",
    "plt.scatter(z_r0[indices], z_r1[indices], c='r')\n",
    "plt.title('PCA of Range Standartized Data')"
   ]
  },
  {
   "cell_type": "code",
   "execution_count": 33,
   "metadata": {
    "id": "DnUoOoifnKTc"
   },
   "outputs": [],
   "source": [
    "z_z0 = z_z[:, 0] * np.sqrt(z_mu[0])\n",
    "z_z1 = z_z[:, 1] * np.sqrt(z_mu[1])"
   ]
  },
  {
   "cell_type": "code",
   "execution_count": 34,
   "metadata": {
    "colab": {
     "base_uri": "https://localhost:8080/",
     "height": 299
    },
    "id": "tXspYCB9nlVQ",
    "outputId": "a5b672a8-184f-4617-e655-563c7d6b6d73"
   },
   "outputs": [
    {
     "data": {
      "text/plain": [
       "Text(0.5, 1.0, 'PCA of Z-Scoring Standartized Data')"
      ]
     },
     "execution_count": 34,
     "metadata": {},
     "output_type": "execute_result"
    },
    {
     "data": {
      "image/png": "[encoded data removed]",
      "text/plain": [
       "<Figure size 432x288 with 1 Axes>"
      ]
     },
     "metadata": {
      "needs_background": "light"
     },
     "output_type": "display_data"
    }
   ],
   "source": [
    "plt.scatter(z_z0, z_z1)\n",
    "plt.scatter(z_z0[indices], z_z1[indices], c='r')\n",
    "plt.title('PCA of Z-Scoring Standartized Data')"
   ]
  },
  {
   "cell_type": "code",
   "execution_count": null,
   "metadata": {},
   "outputs": [],
   "source": []
  },
  {
   "cell_type": "code",
   "execution_count": null,
   "metadata": {},
   "outputs": [],
   "source": []
  },
  {
   "cell_type": "code",
   "execution_count": null,
   "metadata": {},
   "outputs": [],
   "source": []
  },
  {
   "cell_type": "markdown",
   "metadata": {},
   "source": [
    "## Part 5"
   ]
  },
  {
   "cell_type": "code",
   "execution_count": 114,
   "metadata": {},
   "outputs": [],
   "source": [
    "def get_next_comp(Y, B):\n",
    "    eig_vals, eig_vecs = np.linalg.eig(B)\n",
    "    \n",
    "    max_val_ind = np.argmax(eig_vals)\n",
    "    eig_val = eig_vals[max_val_ind]\n",
    "    eig_vec = eig_vecs[:, max_val_ind]\n",
    "\n",
    "    assert np.allclose(B @ eig_vec, eig_val * eig_vec)\n",
    "    \n",
    "    Z = Y @ eig_vec / (Y.shape[0] * eig_val)\n",
    "    \n",
    "    return Z, eig_vec, eig_val\n",
    "    \n",
    "\n",
    "def get_2_components(X, n_comps, stand):\n",
    "    Y = z_data_array - np.mean(z_data_array, axis=0, keepdims=True)\n",
    "    B = Y.T @ Y / Y.shape[0]\n",
    "    comps = []\n",
    "    \n",
    "    for i in range(n_comps):\n",
    "        comp, eig_vec, eig_val = get_next_comp(Y, B)\n",
    "        comps.append(comp)\n",
    "        B = B - eig_val * eig_vec.reshape(-1, 1) @ eig_vec.reshape(1, -1)\n",
    "        \n",
    "    return comps"
   ]
  },
  {
   "cell_type": "code",
   "execution_count": null,
   "metadata": {},
   "outputs": [],
   "source": []
  },
  {
   "cell_type": "code",
   "execution_count": null,
   "metadata": {},
   "outputs": [],
   "source": []
  },
  {
   "cell_type": "code",
   "execution_count": 117,
   "metadata": {},
   "outputs": [],
   "source": [
    "comp_1, comp_2 = get_2_components(z_data_array, 2)"
   ]
  },
  {
   "cell_type": "code",
   "execution_count": 120,
   "metadata": {},
   "outputs": [
    {
     "data": {
      "text/plain": [
       "Text(0.5, 1.0, 'First to principal components')"
      ]
     },
     "execution_count": 120,
     "metadata": {},
     "output_type": "execute_result"
    },
    {
     "data": {
      "image/png": "[encoded data removed]",
      "text/plain": [
       "<Figure size 432x288 with 1 Axes>"
      ]
     },
     "metadata": {
      "needs_background": "light"
     },
     "output_type": "display_data"
    }
   ],
   "source": [
    "plt.scatter(comp_1, comp_2)\n",
    "plt.scatter(comp_1[indices], comp_2[indices], c='r')\n",
    "plt.title('First two principal component of zscored data')"
   ]
  },
  {
   "cell_type": "code",
   "execution_count": 125,
   "metadata": {},
   "outputs": [],
   "source": [
    "comp_1, comp_2 = get_2_components(data_array, 2)"
   ]
  },
  {
   "cell_type": "code",
   "execution_count": 127,
   "metadata": {},
   "outputs": [
    {
     "data": {
      "text/plain": [
       "Text(0.5, 1.0, 'First two principal component of original data')"
      ]
     },
     "execution_count": 127,
     "metadata": {},
     "output_type": "execute_result"
    },
    {
     "data": {
      "image/png": "[encoded data removed]",
      "text/plain": [
       "<Figure size 432x288 with 1 Axes>"
      ]
     },
     "metadata": {
      "needs_background": "light"
     },
     "output_type": "display_data"
    }
   ],
   "source": [
    "plt.scatter(comp_1, comp_2)\n",
    "plt.scatter(comp_1[indices], comp_2[indices], c='r')\n",
    "plt.title('First two principal component of original data')"
   ]
  },
  {
   "cell_type": "code",
   "execution_count": null,
   "metadata": {},
   "outputs": [],
   "source": []
  },
  {
   "cell_type": "code",
   "execution_count": null,
   "metadata": {},
   "outputs": [],
   "source": []
  },
  {
   "cell_type": "code",
   "execution_count": null,
   "metadata": {},
   "outputs": [],
   "source": []
  },
  {
   "cell_type": "code",
   "execution_count": null,
   "metadata": {},
   "outputs": [],
   "source": []
  }
 ],
 "metadata": {
  "colab": {
   "name": "PCA/SVD.ipynb",
   "provenance": []
  },
  "kernelspec": {
   "display_name": "Python 3",
   "language": "python",
   "name": "python3"
  },
  "language_info": {
   "codemirror_mode": {
    "name": "ipython",
    "version": 3
   },
   "file_extension": ".py",
   "mimetype": "text/x-python",
   "name": "python",
   "nbconvert_exporter": "python",
   "pygments_lexer": "ipython3",
   "version": "3.8.3"
  }
 },
 "nbformat": 4,
 "nbformat_minor": 1
}

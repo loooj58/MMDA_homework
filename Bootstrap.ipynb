{
  "nbformat": 4,
  "nbformat_minor": 0,
  "metadata": {
    "colab": {
      "name": "Bootstrap.ipynb",
      "provenance": [],
      "collapsed_sections": []
    },
    "kernelspec": {
      "name": "python3",
      "display_name": "Python 3"
    }
  },
  "cells": [
    {
      "cell_type": "code",
      "metadata": {
        "id": "4C_bXhZr4sUK"
      },
      "source": [
        "#!cp drive/MyDrive/data_clustered.csv data_clustered.csv"
      ],
      "execution_count": null,
      "outputs": []
    },
    {
      "cell_type": "code",
      "metadata": {
        "id": "uYVxwGJi5srN"
      },
      "source": [
        "import pandas as pd\n",
        "import numpy as np"
      ],
      "execution_count": null,
      "outputs": []
    },
    {
      "cell_type": "code",
      "metadata": {
        "id": "NdZxgFv64xLv"
      },
      "source": [
        "data_clustered = pd.read_csv('data_clustered.csv') # Файл из выхода Kmeans.ipynb"
      ],
      "execution_count": null,
      "outputs": []
    },
    {
      "cell_type": "code",
      "metadata": {
        "colab": {
          "base_uri": "https://localhost:8080/",
          "height": 456
        },
        "id": "ZBJTvOg25xxm",
        "outputId": "8e4ca290-388e-4ca9-d68a-523053891779"
      },
      "source": [
        "data_clustered"
      ],
      "execution_count": null,
      "outputs": [
        {
          "output_type": "execute_result",
          "data": {
            "text/html": [
              "<div>\n",
              "<style scoped>\n",
              "    .dataframe tbody tr th:only-of-type {\n",
              "        vertical-align: middle;\n",
              "    }\n",
              "\n",
              "    .dataframe tbody tr th {\n",
              "        vertical-align: top;\n",
              "    }\n",
              "\n",
              "    .dataframe thead th {\n",
              "        text-align: right;\n",
              "    }\n",
              "</style>\n",
              "<table border=\"1\" class=\"dataframe\">\n",
              "  <thead>\n",
              "    <tr style=\"text-align: right;\">\n",
              "      <th></th>\n",
              "      <th>Unnamed: 0</th>\n",
              "      <th>Unnamed: 0.1</th>\n",
              "      <th>LotArea</th>\n",
              "      <th>GarageArea</th>\n",
              "      <th>MSZoning</th>\n",
              "      <th>LotFrontage</th>\n",
              "      <th>Condition1</th>\n",
              "      <th>HouseStyle</th>\n",
              "      <th>SalePrice</th>\n",
              "      <th>YearBuilt</th>\n",
              "      <th>YrSold</th>\n",
              "      <th>Neighborhood</th>\n",
              "      <th>Label_5</th>\n",
              "      <th>Label_9</th>\n",
              "    </tr>\n",
              "  </thead>\n",
              "  <tbody>\n",
              "    <tr>\n",
              "      <th>0</th>\n",
              "      <td>0</td>\n",
              "      <td>479</td>\n",
              "      <td>5925</td>\n",
              "      <td>672</td>\n",
              "      <td>RM</td>\n",
              "      <td>50.0</td>\n",
              "      <td>Norm</td>\n",
              "      <td>1Story</td>\n",
              "      <td>89471</td>\n",
              "      <td>1937</td>\n",
              "      <td>2007</td>\n",
              "      <td>OldTown</td>\n",
              "      <td>1</td>\n",
              "      <td>5</td>\n",
              "    </tr>\n",
              "    <tr>\n",
              "      <th>1</th>\n",
              "      <td>1</td>\n",
              "      <td>793</td>\n",
              "      <td>9158</td>\n",
              "      <td>474</td>\n",
              "      <td>RL</td>\n",
              "      <td>76.0</td>\n",
              "      <td>Norm</td>\n",
              "      <td>1Story</td>\n",
              "      <td>225000</td>\n",
              "      <td>2007</td>\n",
              "      <td>2007</td>\n",
              "      <td>Somerst</td>\n",
              "      <td>3</td>\n",
              "      <td>0</td>\n",
              "    </tr>\n",
              "    <tr>\n",
              "      <th>2</th>\n",
              "      <td>2</td>\n",
              "      <td>339</td>\n",
              "      <td>12400</td>\n",
              "      <td>297</td>\n",
              "      <td>RL</td>\n",
              "      <td>66.0</td>\n",
              "      <td>Feedr</td>\n",
              "      <td>1Story</td>\n",
              "      <td>155000</td>\n",
              "      <td>1958</td>\n",
              "      <td>2009</td>\n",
              "      <td>NAmes</td>\n",
              "      <td>2</td>\n",
              "      <td>3</td>\n",
              "    </tr>\n",
              "    <tr>\n",
              "      <th>3</th>\n",
              "      <td>3</td>\n",
              "      <td>142</td>\n",
              "      <td>8520</td>\n",
              "      <td>720</td>\n",
              "      <td>RL</td>\n",
              "      <td>71.0</td>\n",
              "      <td>Artery</td>\n",
              "      <td>1.5Fin</td>\n",
              "      <td>166000</td>\n",
              "      <td>1952</td>\n",
              "      <td>2010</td>\n",
              "      <td>NAmes</td>\n",
              "      <td>2</td>\n",
              "      <td>3</td>\n",
              "    </tr>\n",
              "    <tr>\n",
              "      <th>4</th>\n",
              "      <td>4</td>\n",
              "      <td>1453</td>\n",
              "      <td>17217</td>\n",
              "      <td>0</td>\n",
              "      <td>RL</td>\n",
              "      <td>90.0</td>\n",
              "      <td>Norm</td>\n",
              "      <td>1Story</td>\n",
              "      <td>84500</td>\n",
              "      <td>2006</td>\n",
              "      <td>2006</td>\n",
              "      <td>Mitchel</td>\n",
              "      <td>1</td>\n",
              "      <td>5</td>\n",
              "    </tr>\n",
              "    <tr>\n",
              "      <th>...</th>\n",
              "      <td>...</td>\n",
              "      <td>...</td>\n",
              "      <td>...</td>\n",
              "      <td>...</td>\n",
              "      <td>...</td>\n",
              "      <td>...</td>\n",
              "      <td>...</td>\n",
              "      <td>...</td>\n",
              "      <td>...</td>\n",
              "      <td>...</td>\n",
              "      <td>...</td>\n",
              "      <td>...</td>\n",
              "      <td>...</td>\n",
              "      <td>...</td>\n",
              "    </tr>\n",
              "    <tr>\n",
              "      <th>1455</th>\n",
              "      <td>1455</td>\n",
              "      <td>831</td>\n",
              "      <td>3180</td>\n",
              "      <td>480</td>\n",
              "      <td>FV</td>\n",
              "      <td>30.0</td>\n",
              "      <td>Norm</td>\n",
              "      <td>2Story</td>\n",
              "      <td>151000</td>\n",
              "      <td>2005</td>\n",
              "      <td>2006</td>\n",
              "      <td>Somerst</td>\n",
              "      <td>2</td>\n",
              "      <td>3</td>\n",
              "    </tr>\n",
              "    <tr>\n",
              "      <th>1456</th>\n",
              "      <td>1456</td>\n",
              "      <td>522</td>\n",
              "      <td>5000</td>\n",
              "      <td>420</td>\n",
              "      <td>RM</td>\n",
              "      <td>50.0</td>\n",
              "      <td>Feedr</td>\n",
              "      <td>1.5Fin</td>\n",
              "      <td>159000</td>\n",
              "      <td>1947</td>\n",
              "      <td>2006</td>\n",
              "      <td>BrkSide</td>\n",
              "      <td>2</td>\n",
              "      <td>3</td>\n",
              "    </tr>\n",
              "    <tr>\n",
              "      <th>1457</th>\n",
              "      <td>1457</td>\n",
              "      <td>1217</td>\n",
              "      <td>8640</td>\n",
              "      <td>552</td>\n",
              "      <td>FV</td>\n",
              "      <td>72.0</td>\n",
              "      <td>Norm</td>\n",
              "      <td>1Story</td>\n",
              "      <td>229456</td>\n",
              "      <td>2009</td>\n",
              "      <td>2009</td>\n",
              "      <td>Somerst</td>\n",
              "      <td>3</td>\n",
              "      <td>0</td>\n",
              "    </tr>\n",
              "    <tr>\n",
              "      <th>1458</th>\n",
              "      <td>1458</td>\n",
              "      <td>162</td>\n",
              "      <td>12182</td>\n",
              "      <td>532</td>\n",
              "      <td>RL</td>\n",
              "      <td>95.0</td>\n",
              "      <td>Norm</td>\n",
              "      <td>1Story</td>\n",
              "      <td>220000</td>\n",
              "      <td>2005</td>\n",
              "      <td>2010</td>\n",
              "      <td>NridgHt</td>\n",
              "      <td>3</td>\n",
              "      <td>6</td>\n",
              "    </tr>\n",
              "    <tr>\n",
              "      <th>1459</th>\n",
              "      <td>1459</td>\n",
              "      <td>852</td>\n",
              "      <td>7128</td>\n",
              "      <td>240</td>\n",
              "      <td>RL</td>\n",
              "      <td>53.0</td>\n",
              "      <td>Norm</td>\n",
              "      <td>2.5Unf</td>\n",
              "      <td>164000</td>\n",
              "      <td>1941</td>\n",
              "      <td>2007</td>\n",
              "      <td>Crawfor</td>\n",
              "      <td>2</td>\n",
              "      <td>3</td>\n",
              "    </tr>\n",
              "  </tbody>\n",
              "</table>\n",
              "<p>1460 rows × 14 columns</p>\n",
              "</div>"
            ],
            "text/plain": [
              "      Unnamed: 0  Unnamed: 0.1  LotArea  ...  Neighborhood Label_5  Label_9\n",
              "0              0           479     5925  ...       OldTown       1        5\n",
              "1              1           793     9158  ...       Somerst       3        0\n",
              "2              2           339    12400  ...         NAmes       2        3\n",
              "3              3           142     8520  ...         NAmes       2        3\n",
              "4              4          1453    17217  ...       Mitchel       1        5\n",
              "...          ...           ...      ...  ...           ...     ...      ...\n",
              "1455        1455           831     3180  ...       Somerst       2        3\n",
              "1456        1456           522     5000  ...       BrkSide       2        3\n",
              "1457        1457          1217     8640  ...       Somerst       3        0\n",
              "1458        1458           162    12182  ...       NridgHt       3        6\n",
              "1459        1459           852     7128  ...       Crawfor       2        3\n",
              "\n",
              "[1460 rows x 14 columns]"
            ]
          },
          "metadata": {
            "tags": []
          },
          "execution_count": 6
        }
      ]
    },
    {
      "cell_type": "markdown",
      "metadata": {
        "id": "hQiybNt96LAn"
      },
      "source": [
        "Возьмем Label_5 как лэйбл кластеризации на 5 кластеров из прошлой задачи"
      ]
    },
    {
      "cell_type": "code",
      "metadata": {
        "id": "sS6WlKuj5yxE"
      },
      "source": [
        "labels = data_clustered['Label_5']"
      ],
      "execution_count": null,
      "outputs": []
    },
    {
      "cell_type": "markdown",
      "metadata": {
        "id": "jwQOkeyK-Km9"
      },
      "source": [
        "Как фичу возьму SalePrice"
      ]
    },
    {
      "cell_type": "code",
      "metadata": {
        "id": "WDEpI6te-CkH"
      },
      "source": [
        "feature = data_clustered['SalePrice']"
      ],
      "execution_count": null,
      "outputs": []
    },
    {
      "cell_type": "markdown",
      "metadata": {
        "id": "lt_IplI2-VKX"
      },
      "source": [
        "## Оценка среднего фичи по датасету с помощью Бутстрапа"
      ]
    },
    {
      "cell_type": "code",
      "metadata": {
        "id": "HcKSJR82-QIO"
      },
      "source": [
        "feature = data_clustered['SalePrice']"
      ],
      "execution_count": null,
      "outputs": []
    },
    {
      "cell_type": "markdown",
      "metadata": {
        "id": "jSaarfKjFHZ1"
      },
      "source": [
        "Возьму и 2000 раз насэмплю элементов из датасета\n",
        "Каждый раз посчитаю среднее и сохраню это в список means"
      ]
    },
    {
      "cell_type": "code",
      "metadata": {
        "id": "1wgX9mtrA6IM"
      },
      "source": [
        "n_bootstrap = 2000\n",
        "n_sample = feature.shape[0]\n",
        "\n",
        "means = np.zeros((n_bootstrap, ))\n",
        "\n",
        "for i in range(n_bootstrap):\n",
        "    feats = np.random.choice(feature, n_sample, replace=True)\n",
        "    means[i] = np.mean(feats)\n",
        "    "
      ],
      "execution_count": null,
      "outputs": []
    },
    {
      "cell_type": "markdown",
      "metadata": {
        "id": "E10tcTHOCYhc"
      },
      "source": [
        "### Pivotal"
      ]
    },
    {
      "cell_type": "markdown",
      "metadata": {
        "id": "sQ6J9iCYFeXw"
      },
      "source": [
        "Для Pivotal версии считаем, что means теперь распределено нормально, и посчитаем доверительный интервал через выборочное среднее и стандартное отклонение массива means"
      ]
    },
    {
      "cell_type": "code",
      "metadata": {
        "id": "gouiKJKFCLWV"
      },
      "source": [
        "mean_means = np.mean(means)\n",
        "std_mean = np.std(means)\n",
        "\n",
        "left_pl_bound = mean_means - 1.96 * std_mean\n",
        "right_pl_bound = mean_means + 1.96 * std_mean"
      ],
      "execution_count": null,
      "outputs": []
    },
    {
      "cell_type": "markdown",
      "metadata": {
        "id": "oK6SuHVLFs_g"
      },
      "source": [
        "Получается такой доверительный интервал"
      ]
    },
    {
      "cell_type": "code",
      "metadata": {
        "colab": {
          "base_uri": "https://localhost:8080/"
        },
        "id": "VT-Va-8fCvf9",
        "outputId": "643e86d1-a85a-4aa3-d199-32f4cce7b40d"
      },
      "source": [
        "print(f'SalePrice is in boundary [{left_pl_bound}; {right_pl_bound}] with 95% confidence')"
      ],
      "execution_count": null,
      "outputs": [
        {
          "output_type": "stream",
          "text": [
            "SalePrice is in boundary [176718.65206984174; 185050.59132604866] with 95% confidence\n"
          ],
          "name": "stdout"
        }
      ]
    },
    {
      "cell_type": "markdown",
      "metadata": {
        "id": "6ED6q8jlDMsX"
      },
      "source": [
        "### Non-pivotal"
      ]
    },
    {
      "cell_type": "markdown",
      "metadata": {
        "id": "lfD2X0FwFz0f"
      },
      "source": [
        "Для этой версии, отсортирую means"
      ]
    },
    {
      "cell_type": "code",
      "metadata": {
        "id": "hyR2H8O_C6sn"
      },
      "source": [
        "sorted_means = np.sort(means)"
      ],
      "execution_count": null,
      "outputs": []
    },
    {
      "cell_type": "code",
      "metadata": {
        "colab": {
          "base_uri": "https://localhost:8080/"
        },
        "id": "V1C07bGqDYpo",
        "outputId": "a0ecc7b7-7d9c-4594-e9b0-04cb146e9c6d"
      },
      "source": [
        "sorted_means"
      ],
      "execution_count": null,
      "outputs": [
        {
          "output_type": "execute_result",
          "data": {
            "text/plain": [
              "array([173858.65684932, 174191.02465753, 174308.30821918, ...,\n",
              "       187042.76232877, 187115.22808219, 187175.43767123])"
            ]
          },
          "metadata": {
            "tags": []
          },
          "execution_count": 50
        }
      ]
    },
    {
      "cell_type": "markdown",
      "metadata": {
        "id": "A4D0JCVhF3FM"
      },
      "source": [
        "Возьму 2.5% и 97.5% перцентили полученных средних и они и будут задавать 95%-доверительный интервал"
      ]
    },
    {
      "cell_type": "code",
      "metadata": {
        "id": "KLAgSg-bDaBe"
      },
      "source": [
        "lower_bound_index = int(sorted_means.shape[0] * 0.025)\n",
        "upper_bound_index = int(sorted_means.shape[0] * 0.975)\n",
        "\n",
        "left_np_bound = sorted_means[lower_bound_index]\n",
        "right_np_bound = sorted_means[upper_bound_index]"
      ],
      "execution_count": null,
      "outputs": []
    },
    {
      "cell_type": "markdown",
      "metadata": {
        "id": "XL_vLaqOGAgA"
      },
      "source": [
        "Получается следующий результат:"
      ]
    },
    {
      "cell_type": "code",
      "metadata": {
        "colab": {
          "base_uri": "https://localhost:8080/"
        },
        "id": "Udg5si4AECxJ",
        "outputId": "eae650cc-5039-46c2-9ad3-6855338f5171"
      },
      "source": [
        "print(f'SalePrice is in boundary [{left_np_bound}; {right_np_bound}] with 95% confidence')"
      ],
      "execution_count": null,
      "outputs": [
        {
          "output_type": "stream",
          "text": [
            "SalePrice is in boundary [176776.77465753426; 185291.49589041097] with 95% confidence\n"
          ],
          "name": "stdout"
        }
      ]
    },
    {
      "cell_type": "markdown",
      "metadata": {
        "id": "BFYG0ZiZEXTm"
      },
      "source": [
        "### **Результаты**\n",
        "\n",
        "Результаты для pivotal и non-pivotal версий получаются схожи, скорее всего в среднее оба они попали достаточно хорошо\n"
      ]
    },
    {
      "cell_type": "markdown",
      "metadata": {
        "id": "4FmIDdR3GETi"
      },
      "source": [
        "## Сравнение средних меж кластерами"
      ]
    },
    {
      "cell_type": "markdown",
      "metadata": {
        "id": "O_OqJNXIGp3I"
      },
      "source": [
        "Возьму первый и второй кластер и их средние буду сравнивать"
      ]
    },
    {
      "cell_type": "code",
      "metadata": {
        "id": "3D1A6kTdEJBI"
      },
      "source": [
        "feature_label_1 = feature[labels == 1]\n",
        "feature_label_2 = feature[labels == 2]"
      ],
      "execution_count": null,
      "outputs": []
    },
    {
      "cell_type": "markdown",
      "metadata": {
        "id": "R_ASQShBHjV2"
      },
      "source": [
        "Для каждого из двух кластеров в течение 2000 итераций буду считать среднее по сэмплированным данным из этих лейблов"
      ]
    },
    {
      "cell_type": "markdown",
      "metadata": {
        "id": "8oVmsgnJHx-F"
      },
      "source": [
        "Для первого кластера"
      ]
    },
    {
      "cell_type": "code",
      "metadata": {
        "id": "M5LxFmVmGe6u"
      },
      "source": [
        "n_bootstrap = 2000\n",
        "n_sampled = feature_label_1.shape[0]\n",
        "\n",
        "means_1 = np.zeros((n_bootstrap, ))\n",
        "\n",
        "for i in range(n_bootstrap):\n",
        "    feats = np.random.choice(feature_label_1, n_sampled, replace=True)\n",
        "    means_1[i] = np.mean(feats)\n",
        "\n"
      ],
      "execution_count": null,
      "outputs": []
    },
    {
      "cell_type": "markdown",
      "metadata": {
        "id": "X2PMLtzVId_0"
      },
      "source": [
        "Для второго кластера"
      ]
    },
    {
      "cell_type": "code",
      "metadata": {
        "id": "1wGoIE54IS_i"
      },
      "source": [
        "n_bootstrap = 2000\n",
        "n_sampled = feature_label_2.shape[0]\n",
        "\n",
        "means_2 = np.zeros((n_bootstrap, ))\n",
        "\n",
        "for i in range(n_bootstrap):\n",
        "    feats = np.random.choice(feature_label_2, n_sampled, replace=True)\n",
        "    means_2[i] = np.mean(feats)"
      ],
      "execution_count": null,
      "outputs": []
    },
    {
      "cell_type": "markdown",
      "metadata": {
        "id": "aXwjrdo5I-ey"
      },
      "source": [
        "Посчитаю разницу между соответствующими массивами средних. Это я делаю, потому что я буду проверять, попадает ли 0 в доверительный интервал разниц запуска для первого кластера и для второго"
      ]
    },
    {
      "cell_type": "code",
      "metadata": {
        "id": "V2f4GSKJItip"
      },
      "source": [
        "diffs = means_1 - means_2"
      ],
      "execution_count": null,
      "outputs": []
    },
    {
      "cell_type": "markdown",
      "metadata": {
        "id": "itZJJCsdJho2"
      },
      "source": [
        "### Pivotal"
      ]
    },
    {
      "cell_type": "markdown",
      "metadata": {
        "id": "i2XE5Wf5KT-U"
      },
      "source": [
        "Как и в прошлый раз для Pivotal считаем, что среднее становится похоже на гауссиану и высчитываем доверительный интервал исходя из этого"
      ]
    },
    {
      "cell_type": "code",
      "metadata": {
        "id": "7lSPfMFtJi7Y"
      },
      "source": [
        "mean_diffs = np.mean(diffs)\n",
        "std_diffs = np.std(diffs)\n",
        "\n",
        "left_pl_bound = mean_diffs - 1.96 * std_diffs\n",
        "right_pl_bound = mean_diffs + 1.96 * std_diffs"
      ],
      "execution_count": null,
      "outputs": []
    },
    {
      "cell_type": "markdown",
      "metadata": {
        "id": "i7znSfMUKd_g"
      },
      "source": [
        "Результаты"
      ]
    },
    {
      "cell_type": "code",
      "metadata": {
        "colab": {
          "base_uri": "https://localhost:8080/"
        },
        "id": "3cs4FQO6JyO-",
        "outputId": "33c4bac2-b56c-4efd-a034-4580e998c783"
      },
      "source": [
        "print(f'Diff between Saleprices of first and second clusters is in boundary [{left_pl_bound}; {right_pl_bound}] with 95% confidence')"
      ],
      "execution_count": null,
      "outputs": [
        {
          "output_type": "stream",
          "text": [
            "Diff between Saleprices of first and second clusters is in boundary [-59142.491642781424; -54377.96970936607] with 95% confidence\n"
          ],
          "name": "stdout"
        }
      ]
    },
    {
      "cell_type": "markdown",
      "metadata": {
        "id": "5hyO9DfkJ9bq"
      },
      "source": [
        "### Non-pivotal"
      ]
    },
    {
      "cell_type": "markdown",
      "metadata": {
        "id": "G9iDLo2uKfbv"
      },
      "source": [
        "Опять же отсортируем диффы"
      ]
    },
    {
      "cell_type": "code",
      "metadata": {
        "id": "S565SqYkJ7yF"
      },
      "source": [
        "sorted_diffs = np.sort(diffs)"
      ],
      "execution_count": null,
      "outputs": []
    },
    {
      "cell_type": "markdown",
      "metadata": {
        "id": "yTffo2PhKheO"
      },
      "source": [
        "Возьмем 2.5% и 97.5% перцентили, и они и задают нам доверительный интервал"
      ]
    },
    {
      "cell_type": "code",
      "metadata": {
        "id": "2XGyk20kKCmc"
      },
      "source": [
        "lower_bound_index = int(sorted_diffs.shape[0] * 0.025)\n",
        "upper_bound_index = int(sorted_diffs.shape[0] * 0.975)\n",
        "\n",
        "left_np_bound = sorted_diffs[lower_bound_index]\n",
        "right_np_bound = sorted_diffs[upper_bound_index]"
      ],
      "execution_count": null,
      "outputs": []
    },
    {
      "cell_type": "markdown",
      "metadata": {
        "id": "qSJCpykTKn5W"
      },
      "source": [
        "Результаты"
      ]
    },
    {
      "cell_type": "code",
      "metadata": {
        "colab": {
          "base_uri": "https://localhost:8080/"
        },
        "id": "qo-xK44oKMj8",
        "outputId": "22ea8c74-cdc4-45e6-e9c6-4e4d7b74f945"
      },
      "source": [
        "print(f'Diff between Saleprices of first and second clusters is in boundary [{left_np_bound}; {right_np_bound}] with 95% confidence')"
      ],
      "execution_count": null,
      "outputs": [
        {
          "output_type": "stream",
          "text": [
            "Diff between Saleprices of first and second clusters is in boundary [-59034.63390724971; -54340.81206616864] with 95% confidence\n"
          ],
          "name": "stdout"
        }
      ]
    },
    {
      "cell_type": "markdown",
      "metadata": {
        "id": "rd0DeN7-Ko-S"
      },
      "source": [
        "### **Результаты**"
      ]
    },
    {
      "cell_type": "markdown",
      "metadata": {
        "id": "PGWYIKjDKrJ8"
      },
      "source": [
        "В обоих случаях 95%-доверительный интервал находится очень далеко от нуля. Таким образом, я могу отвергнуть гипотезу, что в этих двух кластерах среднее значение SalePrice совпадает"
      ]
    },
    {
      "cell_type": "markdown",
      "metadata": {
        "id": "5FgTJ_dNK6LR"
      },
      "source": [
        "## Сравниваю среднее в кластере с глобальным средним с помощью Бутстрапа"
      ]
    },
    {
      "cell_type": "markdown",
      "metadata": {
        "id": "SSNxROtoLDJB"
      },
      "source": [
        "Возьму ту же самую фичу и буду сравнивать ее среднее в первом кластере с глобальным средним"
      ]
    },
    {
      "cell_type": "code",
      "metadata": {
        "id": "4y0BRUGMKRIb"
      },
      "source": [
        "feature_label_1 = feature[labels == 1]"
      ],
      "execution_count": null,
      "outputs": []
    },
    {
      "cell_type": "markdown",
      "metadata": {
        "id": "jydLAyr4LT-G"
      },
      "source": [
        "Для первого кластера и всего датасета в течение 2000 итераций буду считать среднее по сэмплированным данным из соответствующего подмножества данных"
      ]
    },
    {
      "cell_type": "markdown",
      "metadata": {
        "id": "EzvZsDElLbMw"
      },
      "source": [
        "Для всего множества"
      ]
    },
    {
      "cell_type": "code",
      "metadata": {
        "id": "EGAHSoPsLRkB"
      },
      "source": [
        "n_bootstrap = 2000\n",
        "n_sampled = feature.shape[0]\n",
        "\n",
        "means_global = np.zeros((n_bootstrap, ))\n",
        "\n",
        "for i in range(n_bootstrap):\n",
        "    feats = np.random.choice(feature, n_sampled, replace=True)\n",
        "    means_global[i] = np.mean(feats)"
      ],
      "execution_count": null,
      "outputs": []
    },
    {
      "cell_type": "markdown",
      "metadata": {
        "id": "v_1TyDVILn6w"
      },
      "source": [
        "Для первого кластера"
      ]
    },
    {
      "cell_type": "code",
      "metadata": {
        "id": "gNxTxQojLmB2"
      },
      "source": [
        "n_bootstrap = 2000\n",
        "n_sampled = feature_label_1.shape[0]\n",
        "\n",
        "means_1 = np.zeros((n_bootstrap, ))\n",
        "\n",
        "for i in range(n_bootstrap):\n",
        "    feats = np.random.choice(feature_label_1, n_sampled, replace=True)\n",
        "    means_1[i] = np.mean(feats)"
      ],
      "execution_count": null,
      "outputs": []
    },
    {
      "cell_type": "markdown",
      "metadata": {
        "id": "GSDwENVeLxvL"
      },
      "source": [
        "Посчитаю разницу между соответствующими списками средних для того, чтоб потом проверить, попадает ли 0 в доверительный интервал"
      ]
    },
    {
      "cell_type": "code",
      "metadata": {
        "id": "6wqQm4KlLwGU"
      },
      "source": [
        "diffs = means_global - means_1"
      ],
      "execution_count": null,
      "outputs": []
    },
    {
      "cell_type": "markdown",
      "metadata": {
        "id": "O3HxgZCuL9BF"
      },
      "source": [
        "### Pivotal"
      ]
    },
    {
      "cell_type": "markdown",
      "metadata": {
        "id": "e80DyHjSMw1I"
      },
      "source": [
        "Опять же для pivotal версии посчитаю среднее диффов, и посчитаю как для гауссианы доверительный интервал"
      ]
    },
    {
      "cell_type": "code",
      "metadata": {
        "id": "9lsQAU5tL67z"
      },
      "source": [
        "mean_diffs = np.mean(diffs)\n",
        "std_diffs = np.std(diffs)\n",
        "\n",
        "left_pl_bound = mean_diffs - 1.96 * std_diffs\n",
        "right_pl_bound = mean_diffs + 1.96 * std_diffs"
      ],
      "execution_count": null,
      "outputs": []
    },
    {
      "cell_type": "markdown",
      "metadata": {
        "id": "yLM1SkTONAM6"
      },
      "source": [
        "Результаты"
      ]
    },
    {
      "cell_type": "code",
      "metadata": {
        "colab": {
          "base_uri": "https://localhost:8080/"
        },
        "id": "DiiaRKEXMI0m",
        "outputId": "9f9d276b-82d2-4887-e99f-0afb6d6fcfd4"
      },
      "source": [
        "print(f'Diff between Saleprices of first cluster and full dataset is in boundary [{left_pl_bound}; {right_pl_bound}] with 95% confidence')"
      ],
      "execution_count": null,
      "outputs": [
        {
          "output_type": "stream",
          "text": [
            "Diff between Saleprices of first cluster and full dataset is in boundary [58744.240761002206; 67661.07228763503] with 95% confidence\n"
          ],
          "name": "stdout"
        }
      ]
    },
    {
      "cell_type": "markdown",
      "metadata": {
        "id": "HeJmqQopMVJP"
      },
      "source": [
        "### Non-pivotal"
      ]
    },
    {
      "cell_type": "markdown",
      "metadata": {
        "id": "3uFvxgIoNBhu"
      },
      "source": [
        "Для non-pivotal версии вновь отсортирую диффы"
      ]
    },
    {
      "cell_type": "code",
      "metadata": {
        "id": "QxQVAl3zMPn5"
      },
      "source": [
        "sorted_diffs = np.sort(diffs)"
      ],
      "execution_count": null,
      "outputs": []
    },
    {
      "cell_type": "markdown",
      "metadata": {
        "id": "WQ1AP76XNE9Y"
      },
      "source": [
        "Возьму 2.5% и 97.5% перцентили диффов, они будут давать доверительный интервал"
      ]
    },
    {
      "cell_type": "code",
      "metadata": {
        "id": "xx9ADDfhMYks"
      },
      "source": [
        "lower_bound_index = int(sorted_diffs.shape[0] * 0.025)\n",
        "upper_bound_index = int(sorted_diffs.shape[0] * 0.975)\n",
        "\n",
        "left_np_bound = sorted_diffs[lower_bound_index]\n",
        "right_np_bound = sorted_diffs[upper_bound_index]"
      ],
      "execution_count": null,
      "outputs": []
    },
    {
      "cell_type": "markdown",
      "metadata": {
        "id": "MqkOFxLONJRd"
      },
      "source": [
        "Результаты"
      ]
    },
    {
      "cell_type": "code",
      "metadata": {
        "colab": {
          "base_uri": "https://localhost:8080/"
        },
        "id": "Zi1tSvCzMbNv",
        "outputId": "d871f14e-6aef-454b-ac76-a3ca546bb609"
      },
      "source": [
        "print(f'Diff between Saleprices of first cluster and full dataset is in boundary [{left_np_bound}; {right_np_bound}] with 95% confidence')"
      ],
      "execution_count": null,
      "outputs": [
        {
          "output_type": "stream",
          "text": [
            "Diff between Saleprices of first cluster and full dataset is in boundary [58771.65921221026; 67648.63341944353] with 95% confidence\n"
          ],
          "name": "stdout"
        }
      ]
    },
    {
      "cell_type": "markdown",
      "metadata": {
        "id": "SUj6lSk6NKoI"
      },
      "source": [
        "### Результаты"
      ]
    },
    {
      "cell_type": "markdown",
      "metadata": {
        "id": "GFUrudsDNMNV"
      },
      "source": [
        "Оба доверительных интервала дают право отвергнуть гипотезу, что фактор SalePrice имеет одинаковое среднее в первом кластере и во всем датасете"
      ]
    },
    {
      "cell_type": "markdown",
      "metadata": {
        "id": "nOEibctWNYcy"
      },
      "source": [
        "## Выводы"
      ]
    },
    {
      "cell_type": "markdown",
      "metadata": {
        "id": "1w2xOzhsNZxf"
      },
      "source": [
        "Оба способа подсчета доверительных интервалов с помощью бутстрапа дают возможность сравнивать два разных датасета на похожесть, и довольно точно вычислять среднее"
      ]
    },
    {
      "cell_type": "code",
      "metadata": {
        "id": "qtYkLr_KMgqn"
      },
      "source": [
        ""
      ],
      "execution_count": null,
      "outputs": []
    }
  ]
}
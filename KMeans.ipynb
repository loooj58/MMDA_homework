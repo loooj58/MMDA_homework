{
  "nbformat": 4,
  "nbformat_minor": 0,
  "metadata": {
    "colab": {
      "name": "KMeans.ipynb",
      "provenance": [],
      "collapsed_sections": []
    },
    "kernelspec": {
      "name": "python3",
      "display_name": "Python 3"
    }
  },
  "cells": [
    {
      "cell_type": "code",
      "metadata": {
        "id": "RSdcn26VXeLW"
      },
      "source": [
        "#!cp drive/MyDrive/data.csv data.csv"
      ],
      "execution_count": null,
      "outputs": []
    },
    {
      "cell_type": "markdown",
      "metadata": {
        "id": "uXcInDHTr29c"
      },
      "source": [
        "# **K-Means**"
      ]
    },
    {
      "cell_type": "markdown",
      "metadata": {
        "id": "KzBKJSmfr8jU"
      },
      "source": [
        "Библиотеки подключаю необходимые (KMeans буду использовать в реализации sklearn)"
      ]
    },
    {
      "cell_type": "code",
      "metadata": {
        "id": "xZbiGa9gavuW"
      },
      "source": [
        "from sklearn.cluster import KMeans\n",
        "\n",
        "import numpy as np\n",
        "\n",
        "import pandas as pd"
      ],
      "execution_count": null,
      "outputs": []
    },
    {
      "cell_type": "markdown",
      "metadata": {
        "id": "unxZ6JF3sDPM"
      },
      "source": [
        "Подгружаю датасет"
      ]
    },
    {
      "cell_type": "code",
      "metadata": {
        "id": "-pmZb-GHZfyB"
      },
      "source": [
        "data = pd.read_csv('data.csv')"
      ],
      "execution_count": null,
      "outputs": []
    },
    {
      "cell_type": "markdown",
      "metadata": {
        "id": "ODDtfGbDsGSN"
      },
      "source": [
        "Посмотреть можно на него"
      ]
    },
    {
      "cell_type": "code",
      "metadata": {
        "colab": {
          "base_uri": "https://localhost:8080/",
          "height": 456
        },
        "id": "7-wdudorZtJR",
        "outputId": "277c66c3-de9b-4eae-b8c2-8d225128a838"
      },
      "source": [
        "data"
      ],
      "execution_count": null,
      "outputs": [
        {
          "output_type": "execute_result",
          "data": {
            "text/html": [
              "<div>\n",
              "<style scoped>\n",
              "    .dataframe tbody tr th:only-of-type {\n",
              "        vertical-align: middle;\n",
              "    }\n",
              "\n",
              "    .dataframe tbody tr th {\n",
              "        vertical-align: top;\n",
              "    }\n",
              "\n",
              "    .dataframe thead th {\n",
              "        text-align: right;\n",
              "    }\n",
              "</style>\n",
              "<table border=\"1\" class=\"dataframe\">\n",
              "  <thead>\n",
              "    <tr style=\"text-align: right;\">\n",
              "      <th></th>\n",
              "      <th>Unnamed: 0</th>\n",
              "      <th>LotArea</th>\n",
              "      <th>GarageArea</th>\n",
              "      <th>MSZoning</th>\n",
              "      <th>LotFrontage</th>\n",
              "      <th>Condition1</th>\n",
              "      <th>HouseStyle</th>\n",
              "      <th>SalePrice</th>\n",
              "      <th>YearBuilt</th>\n",
              "      <th>YrSold</th>\n",
              "      <th>Neighborhood</th>\n",
              "    </tr>\n",
              "  </thead>\n",
              "  <tbody>\n",
              "    <tr>\n",
              "      <th>0</th>\n",
              "      <td>479</td>\n",
              "      <td>5925</td>\n",
              "      <td>672</td>\n",
              "      <td>RM</td>\n",
              "      <td>50.0</td>\n",
              "      <td>Norm</td>\n",
              "      <td>1Story</td>\n",
              "      <td>89471</td>\n",
              "      <td>1937</td>\n",
              "      <td>2007</td>\n",
              "      <td>OldTown</td>\n",
              "    </tr>\n",
              "    <tr>\n",
              "      <th>1</th>\n",
              "      <td>793</td>\n",
              "      <td>9158</td>\n",
              "      <td>474</td>\n",
              "      <td>RL</td>\n",
              "      <td>76.0</td>\n",
              "      <td>Norm</td>\n",
              "      <td>1Story</td>\n",
              "      <td>225000</td>\n",
              "      <td>2007</td>\n",
              "      <td>2007</td>\n",
              "      <td>Somerst</td>\n",
              "    </tr>\n",
              "    <tr>\n",
              "      <th>2</th>\n",
              "      <td>339</td>\n",
              "      <td>12400</td>\n",
              "      <td>297</td>\n",
              "      <td>RL</td>\n",
              "      <td>66.0</td>\n",
              "      <td>Feedr</td>\n",
              "      <td>1Story</td>\n",
              "      <td>155000</td>\n",
              "      <td>1958</td>\n",
              "      <td>2009</td>\n",
              "      <td>NAmes</td>\n",
              "    </tr>\n",
              "    <tr>\n",
              "      <th>3</th>\n",
              "      <td>142</td>\n",
              "      <td>8520</td>\n",
              "      <td>720</td>\n",
              "      <td>RL</td>\n",
              "      <td>71.0</td>\n",
              "      <td>Artery</td>\n",
              "      <td>1.5Fin</td>\n",
              "      <td>166000</td>\n",
              "      <td>1952</td>\n",
              "      <td>2010</td>\n",
              "      <td>NAmes</td>\n",
              "    </tr>\n",
              "    <tr>\n",
              "      <th>4</th>\n",
              "      <td>1453</td>\n",
              "      <td>17217</td>\n",
              "      <td>0</td>\n",
              "      <td>RL</td>\n",
              "      <td>90.0</td>\n",
              "      <td>Norm</td>\n",
              "      <td>1Story</td>\n",
              "      <td>84500</td>\n",
              "      <td>2006</td>\n",
              "      <td>2006</td>\n",
              "      <td>Mitchel</td>\n",
              "    </tr>\n",
              "    <tr>\n",
              "      <th>...</th>\n",
              "      <td>...</td>\n",
              "      <td>...</td>\n",
              "      <td>...</td>\n",
              "      <td>...</td>\n",
              "      <td>...</td>\n",
              "      <td>...</td>\n",
              "      <td>...</td>\n",
              "      <td>...</td>\n",
              "      <td>...</td>\n",
              "      <td>...</td>\n",
              "      <td>...</td>\n",
              "    </tr>\n",
              "    <tr>\n",
              "      <th>1455</th>\n",
              "      <td>831</td>\n",
              "      <td>3180</td>\n",
              "      <td>480</td>\n",
              "      <td>FV</td>\n",
              "      <td>30.0</td>\n",
              "      <td>Norm</td>\n",
              "      <td>2Story</td>\n",
              "      <td>151000</td>\n",
              "      <td>2005</td>\n",
              "      <td>2006</td>\n",
              "      <td>Somerst</td>\n",
              "    </tr>\n",
              "    <tr>\n",
              "      <th>1456</th>\n",
              "      <td>522</td>\n",
              "      <td>5000</td>\n",
              "      <td>420</td>\n",
              "      <td>RM</td>\n",
              "      <td>50.0</td>\n",
              "      <td>Feedr</td>\n",
              "      <td>1.5Fin</td>\n",
              "      <td>159000</td>\n",
              "      <td>1947</td>\n",
              "      <td>2006</td>\n",
              "      <td>BrkSide</td>\n",
              "    </tr>\n",
              "    <tr>\n",
              "      <th>1457</th>\n",
              "      <td>1217</td>\n",
              "      <td>8640</td>\n",
              "      <td>552</td>\n",
              "      <td>FV</td>\n",
              "      <td>72.0</td>\n",
              "      <td>Norm</td>\n",
              "      <td>1Story</td>\n",
              "      <td>229456</td>\n",
              "      <td>2009</td>\n",
              "      <td>2009</td>\n",
              "      <td>Somerst</td>\n",
              "    </tr>\n",
              "    <tr>\n",
              "      <th>1458</th>\n",
              "      <td>162</td>\n",
              "      <td>12182</td>\n",
              "      <td>532</td>\n",
              "      <td>RL</td>\n",
              "      <td>95.0</td>\n",
              "      <td>Norm</td>\n",
              "      <td>1Story</td>\n",
              "      <td>220000</td>\n",
              "      <td>2005</td>\n",
              "      <td>2010</td>\n",
              "      <td>NridgHt</td>\n",
              "    </tr>\n",
              "    <tr>\n",
              "      <th>1459</th>\n",
              "      <td>852</td>\n",
              "      <td>7128</td>\n",
              "      <td>240</td>\n",
              "      <td>RL</td>\n",
              "      <td>53.0</td>\n",
              "      <td>Norm</td>\n",
              "      <td>2.5Unf</td>\n",
              "      <td>164000</td>\n",
              "      <td>1941</td>\n",
              "      <td>2007</td>\n",
              "      <td>Crawfor</td>\n",
              "    </tr>\n",
              "  </tbody>\n",
              "</table>\n",
              "<p>1460 rows × 11 columns</p>\n",
              "</div>"
            ],
            "text/plain": [
              "      Unnamed: 0  LotArea  GarageArea  ... YearBuilt  YrSold Neighborhood\n",
              "0            479     5925         672  ...      1937    2007      OldTown\n",
              "1            793     9158         474  ...      2007    2007      Somerst\n",
              "2            339    12400         297  ...      1958    2009        NAmes\n",
              "3            142     8520         720  ...      1952    2010        NAmes\n",
              "4           1453    17217           0  ...      2006    2006      Mitchel\n",
              "...          ...      ...         ...  ...       ...     ...          ...\n",
              "1455         831     3180         480  ...      2005    2006      Somerst\n",
              "1456         522     5000         420  ...      1947    2006      BrkSide\n",
              "1457        1217     8640         552  ...      2009    2009      Somerst\n",
              "1458         162    12182         532  ...      2005    2010      NridgHt\n",
              "1459         852     7128         240  ...      1941    2007      Crawfor\n",
              "\n",
              "[1460 rows x 11 columns]"
            ]
          },
          "metadata": {
            "tags": []
          },
          "execution_count": 3
        }
      ]
    },
    {
      "cell_type": "markdown",
      "metadata": {
        "id": "J2LBYLabsK8b"
      },
      "source": [
        "Выберу колонки для анализа LotArea, GarageArea, LotFrontage, SalePrice\n",
        "\n",
        "Выбираю их для анализа, потому что с одной стороны должна проступать зависимость между площадью участка/гаража и стоимостью, и с другой стороны интересна зависимость от LotFrontage. С одной стороны, она должна быть выше у очень дорогих участков, поскольку у них часто отдельная территория, которая может быть достаточно далеко от дороги и с другой стороны большое расстояние до дороги может быть большим минусом для обычных людей, что может повлиять на стоимость в отрицательную сторону\n",
        "\n",
        "В датасете у LotFrontage иногда присутствует NaN, заменю его на 0"
      ]
    },
    {
      "cell_type": "code",
      "metadata": {
        "id": "-riO43nYtfbV"
      },
      "source": [
        "data_chosen = data[['LotArea', 'GarageArea', 'LotFrontage', 'SalePrice']]\n",
        "\n",
        "data_chosen = data_chosen.fillna(0)"
      ],
      "execution_count": null,
      "outputs": []
    },
    {
      "cell_type": "code",
      "metadata": {
        "colab": {
          "base_uri": "https://localhost:8080/",
          "height": 419
        },
        "id": "X97wyHzdtiDe",
        "outputId": "a55855ac-efc3-4553-fbc6-29420fc951f9"
      },
      "source": [
        "data_chosen"
      ],
      "execution_count": null,
      "outputs": [
        {
          "output_type": "execute_result",
          "data": {
            "text/html": [
              "<div>\n",
              "<style scoped>\n",
              "    .dataframe tbody tr th:only-of-type {\n",
              "        vertical-align: middle;\n",
              "    }\n",
              "\n",
              "    .dataframe tbody tr th {\n",
              "        vertical-align: top;\n",
              "    }\n",
              "\n",
              "    .dataframe thead th {\n",
              "        text-align: right;\n",
              "    }\n",
              "</style>\n",
              "<table border=\"1\" class=\"dataframe\">\n",
              "  <thead>\n",
              "    <tr style=\"text-align: right;\">\n",
              "      <th></th>\n",
              "      <th>LotArea</th>\n",
              "      <th>GarageArea</th>\n",
              "      <th>LotFrontage</th>\n",
              "      <th>SalePrice</th>\n",
              "    </tr>\n",
              "  </thead>\n",
              "  <tbody>\n",
              "    <tr>\n",
              "      <th>0</th>\n",
              "      <td>5925</td>\n",
              "      <td>672</td>\n",
              "      <td>50.0</td>\n",
              "      <td>89471</td>\n",
              "    </tr>\n",
              "    <tr>\n",
              "      <th>1</th>\n",
              "      <td>9158</td>\n",
              "      <td>474</td>\n",
              "      <td>76.0</td>\n",
              "      <td>225000</td>\n",
              "    </tr>\n",
              "    <tr>\n",
              "      <th>2</th>\n",
              "      <td>12400</td>\n",
              "      <td>297</td>\n",
              "      <td>66.0</td>\n",
              "      <td>155000</td>\n",
              "    </tr>\n",
              "    <tr>\n",
              "      <th>3</th>\n",
              "      <td>8520</td>\n",
              "      <td>720</td>\n",
              "      <td>71.0</td>\n",
              "      <td>166000</td>\n",
              "    </tr>\n",
              "    <tr>\n",
              "      <th>4</th>\n",
              "      <td>17217</td>\n",
              "      <td>0</td>\n",
              "      <td>90.0</td>\n",
              "      <td>84500</td>\n",
              "    </tr>\n",
              "    <tr>\n",
              "      <th>...</th>\n",
              "      <td>...</td>\n",
              "      <td>...</td>\n",
              "      <td>...</td>\n",
              "      <td>...</td>\n",
              "    </tr>\n",
              "    <tr>\n",
              "      <th>1455</th>\n",
              "      <td>3180</td>\n",
              "      <td>480</td>\n",
              "      <td>30.0</td>\n",
              "      <td>151000</td>\n",
              "    </tr>\n",
              "    <tr>\n",
              "      <th>1456</th>\n",
              "      <td>5000</td>\n",
              "      <td>420</td>\n",
              "      <td>50.0</td>\n",
              "      <td>159000</td>\n",
              "    </tr>\n",
              "    <tr>\n",
              "      <th>1457</th>\n",
              "      <td>8640</td>\n",
              "      <td>552</td>\n",
              "      <td>72.0</td>\n",
              "      <td>229456</td>\n",
              "    </tr>\n",
              "    <tr>\n",
              "      <th>1458</th>\n",
              "      <td>12182</td>\n",
              "      <td>532</td>\n",
              "      <td>95.0</td>\n",
              "      <td>220000</td>\n",
              "    </tr>\n",
              "    <tr>\n",
              "      <th>1459</th>\n",
              "      <td>7128</td>\n",
              "      <td>240</td>\n",
              "      <td>53.0</td>\n",
              "      <td>164000</td>\n",
              "    </tr>\n",
              "  </tbody>\n",
              "</table>\n",
              "<p>1460 rows × 4 columns</p>\n",
              "</div>"
            ],
            "text/plain": [
              "      LotArea  GarageArea  LotFrontage  SalePrice\n",
              "0        5925         672         50.0      89471\n",
              "1        9158         474         76.0     225000\n",
              "2       12400         297         66.0     155000\n",
              "3        8520         720         71.0     166000\n",
              "4       17217           0         90.0      84500\n",
              "...       ...         ...          ...        ...\n",
              "1455     3180         480         30.0     151000\n",
              "1456     5000         420         50.0     159000\n",
              "1457     8640         552         72.0     229456\n",
              "1458    12182         532         95.0     220000\n",
              "1459     7128         240         53.0     164000\n",
              "\n",
              "[1460 rows x 4 columns]"
            ]
          },
          "metadata": {
            "tags": []
          },
          "execution_count": 5
        }
      ]
    },
    {
      "cell_type": "markdown",
      "metadata": {
        "id": "ZVih9-ECq413"
      },
      "source": [
        "## **K-means с K = 5**"
      ]
    },
    {
      "cell_type": "markdown",
      "metadata": {
        "id": "DM-FjHHzwaZp"
      },
      "source": [
        "Инициализируем KMeans 100 рандомными инициализациями на 5 кластеров"
      ]
    },
    {
      "cell_type": "code",
      "metadata": {
        "id": "6jgUtsggZula"
      },
      "source": [
        "KMeans_5 = KMeans(n_clusters=5, init='random', n_init=100)"
      ],
      "execution_count": null,
      "outputs": []
    },
    {
      "cell_type": "markdown",
      "metadata": {
        "id": "SdqtTGk2wgGo"
      },
      "source": [
        "Применим алгоритм KMeans"
      ]
    },
    {
      "cell_type": "code",
      "metadata": {
        "id": "epD72Ul9cJ2c"
      },
      "source": [
        "labels_5 = KMeans_5.fit_predict(data_chosen)"
      ],
      "execution_count": null,
      "outputs": []
    },
    {
      "cell_type": "markdown",
      "metadata": {
        "id": "Q9_-yWBywhwP"
      },
      "source": [
        " Сохраним номера кластеров, предсказанных алгоритмом"
      ]
    },
    {
      "cell_type": "code",
      "metadata": {
        "id": "KaQbFB7rqcVg"
      },
      "source": [
        "data_chosen['Label_5'] = labels_5\n",
        "data['Label_5'] = labels_5"
      ],
      "execution_count": null,
      "outputs": []
    },
    {
      "cell_type": "code",
      "metadata": {
        "colab": {
          "base_uri": "https://localhost:8080/",
          "height": 419
        },
        "id": "obFysloaqgPA",
        "outputId": "366ed28b-f7a7-48b4-f2b8-fca43ddb8441"
      },
      "source": [
        "data_chosen"
      ],
      "execution_count": null,
      "outputs": [
        {
          "output_type": "execute_result",
          "data": {
            "text/html": [
              "<div>\n",
              "<style scoped>\n",
              "    .dataframe tbody tr th:only-of-type {\n",
              "        vertical-align: middle;\n",
              "    }\n",
              "\n",
              "    .dataframe tbody tr th {\n",
              "        vertical-align: top;\n",
              "    }\n",
              "\n",
              "    .dataframe thead th {\n",
              "        text-align: right;\n",
              "    }\n",
              "</style>\n",
              "<table border=\"1\" class=\"dataframe\">\n",
              "  <thead>\n",
              "    <tr style=\"text-align: right;\">\n",
              "      <th></th>\n",
              "      <th>LotArea</th>\n",
              "      <th>GarageArea</th>\n",
              "      <th>LotFrontage</th>\n",
              "      <th>SalePrice</th>\n",
              "      <th>Label_5</th>\n",
              "    </tr>\n",
              "  </thead>\n",
              "  <tbody>\n",
              "    <tr>\n",
              "      <th>0</th>\n",
              "      <td>5925</td>\n",
              "      <td>672</td>\n",
              "      <td>50.0</td>\n",
              "      <td>89471</td>\n",
              "      <td>1</td>\n",
              "    </tr>\n",
              "    <tr>\n",
              "      <th>1</th>\n",
              "      <td>9158</td>\n",
              "      <td>474</td>\n",
              "      <td>76.0</td>\n",
              "      <td>225000</td>\n",
              "      <td>3</td>\n",
              "    </tr>\n",
              "    <tr>\n",
              "      <th>2</th>\n",
              "      <td>12400</td>\n",
              "      <td>297</td>\n",
              "      <td>66.0</td>\n",
              "      <td>155000</td>\n",
              "      <td>2</td>\n",
              "    </tr>\n",
              "    <tr>\n",
              "      <th>3</th>\n",
              "      <td>8520</td>\n",
              "      <td>720</td>\n",
              "      <td>71.0</td>\n",
              "      <td>166000</td>\n",
              "      <td>2</td>\n",
              "    </tr>\n",
              "    <tr>\n",
              "      <th>4</th>\n",
              "      <td>17217</td>\n",
              "      <td>0</td>\n",
              "      <td>90.0</td>\n",
              "      <td>84500</td>\n",
              "      <td>1</td>\n",
              "    </tr>\n",
              "    <tr>\n",
              "      <th>...</th>\n",
              "      <td>...</td>\n",
              "      <td>...</td>\n",
              "      <td>...</td>\n",
              "      <td>...</td>\n",
              "      <td>...</td>\n",
              "    </tr>\n",
              "    <tr>\n",
              "      <th>1455</th>\n",
              "      <td>3180</td>\n",
              "      <td>480</td>\n",
              "      <td>30.0</td>\n",
              "      <td>151000</td>\n",
              "      <td>2</td>\n",
              "    </tr>\n",
              "    <tr>\n",
              "      <th>1456</th>\n",
              "      <td>5000</td>\n",
              "      <td>420</td>\n",
              "      <td>50.0</td>\n",
              "      <td>159000</td>\n",
              "      <td>2</td>\n",
              "    </tr>\n",
              "    <tr>\n",
              "      <th>1457</th>\n",
              "      <td>8640</td>\n",
              "      <td>552</td>\n",
              "      <td>72.0</td>\n",
              "      <td>229456</td>\n",
              "      <td>3</td>\n",
              "    </tr>\n",
              "    <tr>\n",
              "      <th>1458</th>\n",
              "      <td>12182</td>\n",
              "      <td>532</td>\n",
              "      <td>95.0</td>\n",
              "      <td>220000</td>\n",
              "      <td>3</td>\n",
              "    </tr>\n",
              "    <tr>\n",
              "      <th>1459</th>\n",
              "      <td>7128</td>\n",
              "      <td>240</td>\n",
              "      <td>53.0</td>\n",
              "      <td>164000</td>\n",
              "      <td>2</td>\n",
              "    </tr>\n",
              "  </tbody>\n",
              "</table>\n",
              "<p>1460 rows × 5 columns</p>\n",
              "</div>"
            ],
            "text/plain": [
              "      LotArea  GarageArea  LotFrontage  SalePrice  Label_5\n",
              "0        5925         672         50.0      89471        1\n",
              "1        9158         474         76.0     225000        3\n",
              "2       12400         297         66.0     155000        2\n",
              "3        8520         720         71.0     166000        2\n",
              "4       17217           0         90.0      84500        1\n",
              "...       ...         ...          ...        ...      ...\n",
              "1455     3180         480         30.0     151000        2\n",
              "1456     5000         420         50.0     159000        2\n",
              "1457     8640         552         72.0     229456        3\n",
              "1458    12182         532         95.0     220000        3\n",
              "1459     7128         240         53.0     164000        2\n",
              "\n",
              "[1460 rows x 5 columns]"
            ]
          },
          "metadata": {
            "tags": []
          },
          "execution_count": 10
        }
      ]
    },
    {
      "cell_type": "markdown",
      "metadata": {
        "id": "CyZu1zvewnnD"
      },
      "source": [
        "Посчитаю средние фичи глобально по датасету"
      ]
    },
    {
      "cell_type": "code",
      "metadata": {
        "id": "aGHV996-fMaY"
      },
      "source": [
        "mean_LotArea = np.mean(data_chosen['LotArea'])\n",
        "mean_GarageArea = np.mean(data_chosen['GarageArea'])\n",
        "mean_LotFrontage = np.mean(data_chosen['LotFrontage'])\n",
        "mean_SalePrice = np.mean(data_chosen['SalePrice'])"
      ],
      "execution_count": null,
      "outputs": []
    },
    {
      "cell_type": "markdown",
      "metadata": {
        "id": "4R4xHsHWwrGU"
      },
      "source": [
        "Посчитаю средние фичи по каждому кластеру и относительную разницу фичи в кластере и во всем датасете"
      ]
    },
    {
      "cell_type": "code",
      "metadata": {
        "id": "x2Dt3YoJdwvV"
      },
      "source": [
        "rds = dict()\n",
        "for label in range(5):\n",
        "  rds[label] = dict()\n",
        "\n",
        "for label in range(5):\n",
        "  label_data = data_chosen[labels_5 == label]\n",
        "  mean_cluster_LotArea = np.mean(label_data['LotArea'])\n",
        "  mean_cluster_GarageArea = np.mean(label_data['GarageArea'])\n",
        "  mean_cluster_LotFrontage = np.mean(label_data['LotFrontage'])\n",
        "  mean_cluster_SalePrice = np.mean(label_data['SalePrice'])\n",
        "\n",
        "  rds[label]['LotArea'] = 100 * (mean_cluster_LotArea / mean_LotArea - 1)\n",
        "  rds[label]['GarageArea'] = 100 * (mean_cluster_GarageArea / mean_GarageArea - 1)\n",
        "  rds[label]['LotFrontage'] = 100 * (mean_cluster_LotFrontage / mean_LotFrontage - 1)\n",
        "  rds[label]['SalePrice'] = 100 * (mean_cluster_SalePrice / mean_SalePrice - 1)\n"
      ],
      "execution_count": null,
      "outputs": []
    },
    {
      "cell_type": "markdown",
      "metadata": {
        "id": "PLvcUDl9w2N5"
      },
      "source": [
        "Посмотрим на относительную разницу по номеру кластера и фиче"
      ]
    },
    {
      "cell_type": "code",
      "metadata": {
        "colab": {
          "base_uri": "https://localhost:8080/"
        },
        "id": "shSYFow8j30M",
        "outputId": "840cbbac-857b-4974-f377-8d6f225013b4"
      },
      "source": [
        "rds"
      ],
      "execution_count": null,
      "outputs": [
        {
          "output_type": "execute_result",
          "data": {
            "text/plain": [
              "{0: {'GarageArea': 78.91465265808364,\n",
              "  'LotArea': 93.02471015430199,\n",
              "  'LotFrontage': 58.856714425477065,\n",
              "  'SalePrice': 213.03505730407696},\n",
              " 1: {'GarageArea': -28.033438059058792,\n",
              "  'LotArea': -20.770610492050835,\n",
              "  'LotFrontage': -5.714422028521515,\n",
              "  'SalePrice': -34.91775778136075},\n",
              " 2: {'GarageArea': 2.4370801997449565,\n",
              "  'LotArea': -4.462017313302502,\n",
              "  'LotFrontage': -6.483426889639277,\n",
              "  'SalePrice': -3.553135348912606},\n",
              " 3: {'GarageArea': 29.218626929234293,\n",
              "  'LotArea': 27.826044583950104,\n",
              "  'LotFrontage': 7.201856570884946,\n",
              "  'SalePrice': 35.26458090958269},\n",
              " 4: {'GarageArea': 59.28540980916139,\n",
              "  'LotArea': 53.67483732066223,\n",
              "  'LotFrontage': 37.11419797608648,\n",
              "  'SalePrice': 94.10431316898395}}"
            ]
          },
          "metadata": {
            "tags": []
          },
          "execution_count": 14
        }
      ]
    },
    {
      "cell_type": "markdown",
      "metadata": {
        "id": "PYyMYKThw5-0"
      },
      "source": [
        "Для каждого кластера достанем фичи, которые сильно отклоняют его от среднего\n",
        "\n",
        "Для лимита сильного отклонения возьму 25\n",
        "\n",
        "Для очень сильного отклонения - 70"
      ]
    },
    {
      "cell_type": "code",
      "metadata": {
        "id": "PlXm34i4izEL"
      },
      "source": [
        "limit = 25\n",
        "limit_strong = 70\n",
        "\n",
        "V_k_plus = dict()\n",
        "V_k_minus = dict()\n",
        "\n",
        "V_k_strong_plus = dict()\n",
        "V_k_strong_minus = dict()\n",
        "\n",
        "for label in range(5):\n",
        "    V_k_plus[label] = []\n",
        "    V_k_minus[label] = []\n",
        "    V_k_strong_plus[label] = []\n",
        "    V_k_strong_minus[label] = []\n",
        "\n",
        "for label in range(5):\n",
        "    for feature in ['LotArea', 'GarageArea', 'LotFrontage', 'SalePrice']:\n",
        "        if rds[label][feature] > limit_strong:\n",
        "            V_k_strong_plus[label] += [feature]\n",
        "        elif rds[label][feature] > limit:\n",
        "            V_k_plus[label] += [feature]\n",
        "        elif rds[label][feature] < -limit_strong:\n",
        "            V_k_strong_minus[label] += [feature]\n",
        "        elif rds[label][feature] < -limit:\n",
        "            V_k_minus[label] += [feature]"
      ],
      "execution_count": null,
      "outputs": []
    },
    {
      "cell_type": "markdown",
      "metadata": {
        "id": "BxY88xH8xGH6"
      },
      "source": [
        "Фичи сильного положительного отклонения"
      ]
    },
    {
      "cell_type": "code",
      "metadata": {
        "colab": {
          "base_uri": "https://localhost:8080/"
        },
        "id": "FdB_EntpkZ3X",
        "outputId": "4809886c-317c-4e41-94e0-e06e49624100"
      },
      "source": [
        "V_k_plus"
      ],
      "execution_count": null,
      "outputs": [
        {
          "output_type": "execute_result",
          "data": {
            "text/plain": [
              "{0: ['LotFrontage'],\n",
              " 1: [],\n",
              " 2: [],\n",
              " 3: ['LotArea', 'GarageArea', 'SalePrice'],\n",
              " 4: ['LotArea', 'GarageArea', 'LotFrontage']}"
            ]
          },
          "metadata": {
            "tags": []
          },
          "execution_count": 16
        }
      ]
    },
    {
      "cell_type": "markdown",
      "metadata": {
        "id": "iIQP6P_0xIPF"
      },
      "source": [
        "Фичи очень сильного положительного отклонения"
      ]
    },
    {
      "cell_type": "code",
      "metadata": {
        "colab": {
          "base_uri": "https://localhost:8080/"
        },
        "id": "mXF6zdpsl0Dq",
        "outputId": "e1a816aa-7d65-4cdb-80f3-44c62a4c8be0"
      },
      "source": [
        "V_k_strong_plus"
      ],
      "execution_count": null,
      "outputs": [
        {
          "output_type": "execute_result",
          "data": {
            "text/plain": [
              "{0: ['LotArea', 'GarageArea', 'SalePrice'],\n",
              " 1: [],\n",
              " 2: [],\n",
              " 3: [],\n",
              " 4: ['SalePrice']}"
            ]
          },
          "metadata": {
            "tags": []
          },
          "execution_count": 17
        }
      ]
    },
    {
      "cell_type": "markdown",
      "metadata": {
        "id": "z76EjTpuxMlE"
      },
      "source": [
        "Фичи сильного отрицательного отклонения"
      ]
    },
    {
      "cell_type": "code",
      "metadata": {
        "colab": {
          "base_uri": "https://localhost:8080/"
        },
        "id": "kNU3YOBYl3s7",
        "outputId": "2cf2d14a-5019-4454-e2f8-49bdb7d5e3ad"
      },
      "source": [
        "V_k_minus"
      ],
      "execution_count": null,
      "outputs": [
        {
          "output_type": "execute_result",
          "data": {
            "text/plain": [
              "{0: [], 1: ['GarageArea', 'SalePrice'], 2: [], 3: [], 4: []}"
            ]
          },
          "metadata": {
            "tags": []
          },
          "execution_count": 18
        }
      ]
    },
    {
      "cell_type": "markdown",
      "metadata": {
        "id": "qibBC95ZxOc_"
      },
      "source": [
        "Фичи очень сильного отрицательного отклонения (таких не оказалось)"
      ]
    },
    {
      "cell_type": "code",
      "metadata": {
        "colab": {
          "base_uri": "https://localhost:8080/"
        },
        "id": "s5IRTF_3iSkk",
        "outputId": "1c5f8a2c-7217-46a1-bfaf-189b8aa5d099"
      },
      "source": [
        "V_k_strong_minus"
      ],
      "execution_count": null,
      "outputs": [
        {
          "output_type": "execute_result",
          "data": {
            "text/plain": [
              "{0: [], 1: [], 2: [], 3: [], 4: []}"
            ]
          },
          "metadata": {
            "tags": []
          },
          "execution_count": 19
        }
      ]
    },
    {
      "cell_type": "markdown",
      "metadata": {
        "id": "zruE9J3VxTIY"
      },
      "source": [
        "### Описание на низком уровне"
      ]
    },
    {
      "cell_type": "markdown",
      "metadata": {
        "id": "jXCnfMi_mQBB"
      },
      "source": [
        "Кластер 0 имеет LotArea, GarageArea, SalePrice очень сильно выше чем в среднем по датасету и LotFrontage просто сильно выше, чем в среднем по датасету\n",
        "\n",
        "Кластер 1 имеет сильно меньший GarageArea и SalePrice, чем в среднем по датасету\n",
        "\n",
        "Кластер 2 имеет все примерно в среднем по датасету\n",
        "\n",
        "Кластер 3 имеет сильно больший LotArea, GarageArea, SalePrice\n",
        "\n",
        "Кластер 4 имеет сильно больший LotArea, GarageArea, LotFrontage, чем в среднем по датасету и очень сильно больший SalePrice"
      ]
    },
    {
      "cell_type": "markdown",
      "metadata": {
        "id": "vCRdCIQEm9Be"
      },
      "source": [
        "### Описание на более высоком уровне\n",
        "Кластера 0, 3 и 4 отвечают за достаточно большие и дорогие участки.\n",
        "\n",
        "Среди них кластер 0 отвечает за самые дорогие участки, где площадь и стоимость очень сильно выше средних по датасету (их можно назвать особняками). \n",
        "\n",
        "Кластер 4 отвечает за участки следующего уровня (которые все еще очень дорогие, но немного поменьше)\n",
        "\n",
        "Кластер 3 отвечает еще за следующий уровень (при этом эти остаются выше среднего)\n",
        "\n",
        "Кластер 2 отвечает за средние участки по размерам и стоимости\n",
        "\n",
        "Кластер 1 отвечает за более дешевые и маленькие участки\n",
        "\n",
        "Получается примерно такая иерархия по этим кластерам"
      ]
    },
    {
      "cell_type": "markdown",
      "metadata": {
        "id": "ivPvC0qRq-P8"
      },
      "source": [
        "## **K-means с K = 9**"
      ]
    },
    {
      "cell_type": "markdown",
      "metadata": {
        "id": "MabePyr6xY0N"
      },
      "source": [
        "Возьмем теперь KMeans с 9 кластерами, опять же проинициализируем их 100 рандомными инициализациями"
      ]
    },
    {
      "cell_type": "code",
      "metadata": {
        "id": "tYBeQdsCrDiA"
      },
      "source": [
        "KMeans_9 = KMeans(n_clusters=9, init='random', n_init=100)"
      ],
      "execution_count": null,
      "outputs": []
    },
    {
      "cell_type": "markdown",
      "metadata": {
        "id": "m4KXbw6cxgfd"
      },
      "source": [
        "Применим алгоритм и сохраним метки кластеров"
      ]
    },
    {
      "cell_type": "code",
      "metadata": {
        "id": "OLNLQTShrGye"
      },
      "source": [
        "labels_9 = KMeans_9.fit_predict(data_chosen)"
      ],
      "execution_count": null,
      "outputs": []
    },
    {
      "cell_type": "code",
      "metadata": {
        "id": "wTmTkqj-rJzs"
      },
      "source": [
        "data_chosen['Label_9'] = labels_9\n",
        "data['Label_9'] = labels_9"
      ],
      "execution_count": null,
      "outputs": []
    },
    {
      "cell_type": "code",
      "metadata": {
        "colab": {
          "base_uri": "https://localhost:8080/",
          "height": 419
        },
        "id": "Ic_GRAzdrN5E",
        "outputId": "e24c476d-a642-47d2-9d48-991f6c58d1b2"
      },
      "source": [
        "data_chosen"
      ],
      "execution_count": null,
      "outputs": [
        {
          "output_type": "execute_result",
          "data": {
            "text/html": [
              "<div>\n",
              "<style scoped>\n",
              "    .dataframe tbody tr th:only-of-type {\n",
              "        vertical-align: middle;\n",
              "    }\n",
              "\n",
              "    .dataframe tbody tr th {\n",
              "        vertical-align: top;\n",
              "    }\n",
              "\n",
              "    .dataframe thead th {\n",
              "        text-align: right;\n",
              "    }\n",
              "</style>\n",
              "<table border=\"1\" class=\"dataframe\">\n",
              "  <thead>\n",
              "    <tr style=\"text-align: right;\">\n",
              "      <th></th>\n",
              "      <th>LotArea</th>\n",
              "      <th>GarageArea</th>\n",
              "      <th>LotFrontage</th>\n",
              "      <th>SalePrice</th>\n",
              "      <th>Label_5</th>\n",
              "      <th>Label_9</th>\n",
              "    </tr>\n",
              "  </thead>\n",
              "  <tbody>\n",
              "    <tr>\n",
              "      <th>0</th>\n",
              "      <td>5925</td>\n",
              "      <td>672</td>\n",
              "      <td>50.0</td>\n",
              "      <td>89471</td>\n",
              "      <td>1</td>\n",
              "      <td>5</td>\n",
              "    </tr>\n",
              "    <tr>\n",
              "      <th>1</th>\n",
              "      <td>9158</td>\n",
              "      <td>474</td>\n",
              "      <td>76.0</td>\n",
              "      <td>225000</td>\n",
              "      <td>3</td>\n",
              "      <td>0</td>\n",
              "    </tr>\n",
              "    <tr>\n",
              "      <th>2</th>\n",
              "      <td>12400</td>\n",
              "      <td>297</td>\n",
              "      <td>66.0</td>\n",
              "      <td>155000</td>\n",
              "      <td>2</td>\n",
              "      <td>3</td>\n",
              "    </tr>\n",
              "    <tr>\n",
              "      <th>3</th>\n",
              "      <td>8520</td>\n",
              "      <td>720</td>\n",
              "      <td>71.0</td>\n",
              "      <td>166000</td>\n",
              "      <td>2</td>\n",
              "      <td>3</td>\n",
              "    </tr>\n",
              "    <tr>\n",
              "      <th>4</th>\n",
              "      <td>17217</td>\n",
              "      <td>0</td>\n",
              "      <td>90.0</td>\n",
              "      <td>84500</td>\n",
              "      <td>1</td>\n",
              "      <td>5</td>\n",
              "    </tr>\n",
              "    <tr>\n",
              "      <th>...</th>\n",
              "      <td>...</td>\n",
              "      <td>...</td>\n",
              "      <td>...</td>\n",
              "      <td>...</td>\n",
              "      <td>...</td>\n",
              "      <td>...</td>\n",
              "    </tr>\n",
              "    <tr>\n",
              "      <th>1455</th>\n",
              "      <td>3180</td>\n",
              "      <td>480</td>\n",
              "      <td>30.0</td>\n",
              "      <td>151000</td>\n",
              "      <td>2</td>\n",
              "      <td>3</td>\n",
              "    </tr>\n",
              "    <tr>\n",
              "      <th>1456</th>\n",
              "      <td>5000</td>\n",
              "      <td>420</td>\n",
              "      <td>50.0</td>\n",
              "      <td>159000</td>\n",
              "      <td>2</td>\n",
              "      <td>3</td>\n",
              "    </tr>\n",
              "    <tr>\n",
              "      <th>1457</th>\n",
              "      <td>8640</td>\n",
              "      <td>552</td>\n",
              "      <td>72.0</td>\n",
              "      <td>229456</td>\n",
              "      <td>3</td>\n",
              "      <td>0</td>\n",
              "    </tr>\n",
              "    <tr>\n",
              "      <th>1458</th>\n",
              "      <td>12182</td>\n",
              "      <td>532</td>\n",
              "      <td>95.0</td>\n",
              "      <td>220000</td>\n",
              "      <td>3</td>\n",
              "      <td>6</td>\n",
              "    </tr>\n",
              "    <tr>\n",
              "      <th>1459</th>\n",
              "      <td>7128</td>\n",
              "      <td>240</td>\n",
              "      <td>53.0</td>\n",
              "      <td>164000</td>\n",
              "      <td>2</td>\n",
              "      <td>3</td>\n",
              "    </tr>\n",
              "  </tbody>\n",
              "</table>\n",
              "<p>1460 rows × 6 columns</p>\n",
              "</div>"
            ],
            "text/plain": [
              "      LotArea  GarageArea  LotFrontage  SalePrice  Label_5  Label_9\n",
              "0        5925         672         50.0      89471        1        5\n",
              "1        9158         474         76.0     225000        3        0\n",
              "2       12400         297         66.0     155000        2        3\n",
              "3        8520         720         71.0     166000        2        3\n",
              "4       17217           0         90.0      84500        1        5\n",
              "...       ...         ...          ...        ...      ...      ...\n",
              "1455     3180         480         30.0     151000        2        3\n",
              "1456     5000         420         50.0     159000        2        3\n",
              "1457     8640         552         72.0     229456        3        0\n",
              "1458    12182         532         95.0     220000        3        6\n",
              "1459     7128         240         53.0     164000        2        3\n",
              "\n",
              "[1460 rows x 6 columns]"
            ]
          },
          "metadata": {
            "tags": []
          },
          "execution_count": 24
        }
      ]
    },
    {
      "cell_type": "markdown",
      "metadata": {
        "id": "V7iPSUyUxkyE"
      },
      "source": [
        "Опять же посчитаем средние фичи по датасету"
      ]
    },
    {
      "cell_type": "code",
      "metadata": {
        "id": "LDnMtKQ8rOt1"
      },
      "source": [
        "mean_LotArea = np.mean(data_chosen['LotArea'])\n",
        "mean_GarageArea = np.mean(data_chosen['GarageArea'])\n",
        "mean_LotFrontage = np.mean(data_chosen['LotFrontage'])\n",
        "mean_SalePrice = np.mean(data_chosen['SalePrice'])"
      ],
      "execution_count": null,
      "outputs": []
    },
    {
      "cell_type": "markdown",
      "metadata": {
        "id": "M7kSjFGAyhKK"
      },
      "source": [
        "А также по каждому кластеру и относительную разницу"
      ]
    },
    {
      "cell_type": "code",
      "metadata": {
        "id": "WCbG-L4GrRrV"
      },
      "source": [
        "rds = dict()\n",
        "for label in range(9):\n",
        "  rds[label] = dict()\n",
        "\n",
        "for label in range(9):\n",
        "  label_data = data_chosen[labels_9 == label]\n",
        "  mean_cluster_LotArea = np.mean(label_data['LotArea'])\n",
        "  mean_cluster_GarageArea = np.mean(label_data['GarageArea'])\n",
        "  mean_cluster_LotFrontage = np.mean(label_data['LotFrontage'])\n",
        "  mean_cluster_SalePrice = np.mean(label_data['SalePrice'])\n",
        "\n",
        "  rds[label]['LotArea'] = 100 * (mean_cluster_LotArea / mean_LotArea - 1)\n",
        "  rds[label]['GarageArea'] = 100 * (mean_cluster_GarageArea / mean_GarageArea - 1)\n",
        "  rds[label]['LotFrontage'] = 100 * (mean_cluster_LotFrontage / mean_LotFrontage - 1)\n",
        "  rds[label]['SalePrice'] = 100 * (mean_cluster_SalePrice / mean_SalePrice - 1)\n"
      ],
      "execution_count": null,
      "outputs": []
    },
    {
      "cell_type": "markdown",
      "metadata": {
        "id": "WiCngkWLyjo4"
      },
      "source": [
        "Относительная разница фичей по кластерам"
      ]
    },
    {
      "cell_type": "code",
      "metadata": {
        "colab": {
          "base_uri": "https://localhost:8080/"
        },
        "id": "AuJTpqP1rWRB",
        "outputId": "d717e031-3c7f-403e-ee35-5f77c4dee015"
      },
      "source": [
        "rds"
      ],
      "execution_count": null,
      "outputs": [
        {
          "output_type": "execute_result",
          "data": {
            "text/plain": [
              "{0: {'GarageArea': 31.124572327684064,\n",
              "  'LotArea': 18.257279433775153,\n",
              "  'LotFrontage': 11.2239715591671,\n",
              "  'SalePrice': 37.09761987165665},\n",
              " 1: {'GarageArea': 69.21717716590217,\n",
              "  'LotArea': 41.323288320120334,\n",
              "  'LotFrontage': 38.320024204964184,\n",
              "  'SalePrice': 124.39944479298397},\n",
              " 2: {'GarageArea': 72.33810391991322,\n",
              "  'LotArea': 119.55170151633689,\n",
              "  'LotFrontage': 79.18102935932487,\n",
              "  'SalePrice': 243.3242699635071},\n",
              " 3: {'GarageArea': -1.0480907720341492,\n",
              "  'LotArea': -5.353865594847407,\n",
              "  'LotFrontage': -4.898425949879925,\n",
              "  'SalePrice': -7.907613456332285},\n",
              " 4: {'GarageArea': 14.698262691676645,\n",
              "  'LotArea': 1454.7796229252674,\n",
              "  'LotFrontage': -34.92214430048733,\n",
              "  'SalePrice': 63.46205238392106},\n",
              " 5: {'GarageArea': -41.57719083321971,\n",
              "  'LotArea': -29.009733884817003,\n",
              "  'LotFrontage': -10.021647594451577,\n",
              "  'SalePrice': -49.1034027991892},\n",
              " 6: {'GarageArea': 11.185093611442664,\n",
              "  'LotArea': 2.863543819818015,\n",
              "  'LotFrontage': -6.505786741531228,\n",
              "  'SalePrice': 11.017507266193949},\n",
              " 7: {'GarageArea': 55.13218993077829,\n",
              "  'LotArea': 21.749742517827908,\n",
              "  'LotFrontage': 32.81667260984984,\n",
              "  'SalePrice': 72.30531940175335},\n",
              " 8: {'GarageArea': -19.620807335766198,\n",
              "  'LotArea': -17.082420650774587,\n",
              "  'LotFrontage': -5.291399621082304,\n",
              "  'SalePrice': -26.825738277830936}}"
            ]
          },
          "metadata": {
            "tags": []
          },
          "execution_count": 27
        }
      ]
    },
    {
      "cell_type": "markdown",
      "metadata": {
        "id": "aUd6yywUymFE"
      },
      "source": [
        "С теми же лимитами считаю, какие фичи сильно отклоняются от средних"
      ]
    },
    {
      "cell_type": "code",
      "metadata": {
        "id": "p-0DZJ3MrZH8"
      },
      "source": [
        "limit = 25\n",
        "limit_strong = 70\n",
        "\n",
        "V_k_plus = dict()\n",
        "V_k_minus = dict()\n",
        "\n",
        "V_k_strong_plus = dict()\n",
        "V_k_strong_minus = dict()\n",
        "\n",
        "for label in range(9):\n",
        "    V_k_plus[label] = []\n",
        "    V_k_minus[label] = []\n",
        "    V_k_strong_plus[label] = []\n",
        "    V_k_strong_minus[label] = []\n",
        "\n",
        "for label in range(9):\n",
        "    for feature in ['LotArea', 'GarageArea', 'LotFrontage', 'SalePrice']:\n",
        "        if rds[label][feature] > limit_strong:\n",
        "            V_k_strong_plus[label] += [feature]\n",
        "        elif rds[label][feature] > limit:\n",
        "            V_k_plus[label] += [feature]\n",
        "        elif rds[label][feature] < -limit_strong:\n",
        "            V_k_strong_minus[label] += [feature]\n",
        "        elif rds[label][feature] < -limit:\n",
        "            V_k_minus[label] += [feature]"
      ],
      "execution_count": null,
      "outputs": []
    },
    {
      "cell_type": "markdown",
      "metadata": {
        "id": "TEIAtuwNysDJ"
      },
      "source": [
        "Сильно отклоняющиеся в положительную сторону"
      ]
    },
    {
      "cell_type": "code",
      "metadata": {
        "colab": {
          "base_uri": "https://localhost:8080/"
        },
        "id": "lu0d6dBmrcpC",
        "outputId": "254d29b4-cca9-43ac-c273-03074663cef1"
      },
      "source": [
        "V_k_plus"
      ],
      "execution_count": null,
      "outputs": [
        {
          "output_type": "execute_result",
          "data": {
            "text/plain": [
              "{0: ['GarageArea', 'SalePrice'],\n",
              " 1: ['LotArea', 'GarageArea', 'LotFrontage'],\n",
              " 2: [],\n",
              " 3: [],\n",
              " 4: ['SalePrice'],\n",
              " 5: [],\n",
              " 6: [],\n",
              " 7: ['GarageArea', 'LotFrontage'],\n",
              " 8: []}"
            ]
          },
          "metadata": {
            "tags": []
          },
          "execution_count": 29
        }
      ]
    },
    {
      "cell_type": "markdown",
      "metadata": {
        "id": "E1QnNAQLyuvV"
      },
      "source": [
        "Очень сильно в положительную"
      ]
    },
    {
      "cell_type": "code",
      "metadata": {
        "colab": {
          "base_uri": "https://localhost:8080/"
        },
        "id": "huLAaNpDrivE",
        "outputId": "8c7c316b-d436-4554-db30-478a05af7e6f"
      },
      "source": [
        "V_k_strong_plus"
      ],
      "execution_count": null,
      "outputs": [
        {
          "output_type": "execute_result",
          "data": {
            "text/plain": [
              "{0: [],\n",
              " 1: ['SalePrice'],\n",
              " 2: ['LotArea', 'GarageArea', 'LotFrontage', 'SalePrice'],\n",
              " 3: [],\n",
              " 4: ['LotArea'],\n",
              " 5: [],\n",
              " 6: [],\n",
              " 7: ['SalePrice'],\n",
              " 8: []}"
            ]
          },
          "metadata": {
            "tags": []
          },
          "execution_count": 30
        }
      ]
    },
    {
      "cell_type": "markdown",
      "metadata": {
        "id": "PzgiEzpfywUo"
      },
      "source": [
        "Сильно в отрицательную"
      ]
    },
    {
      "cell_type": "code",
      "metadata": {
        "colab": {
          "base_uri": "https://localhost:8080/"
        },
        "id": "T0UbDFYhrmw5",
        "outputId": "519ee7e9-bb52-462f-ebfb-db917c3ea29b"
      },
      "source": [
        "V_k_minus"
      ],
      "execution_count": null,
      "outputs": [
        {
          "output_type": "execute_result",
          "data": {
            "text/plain": [
              "{0: [],\n",
              " 1: [],\n",
              " 2: [],\n",
              " 3: [],\n",
              " 4: ['LotFrontage'],\n",
              " 5: ['LotArea', 'GarageArea', 'SalePrice'],\n",
              " 6: [],\n",
              " 7: [],\n",
              " 8: ['SalePrice']}"
            ]
          },
          "metadata": {
            "tags": []
          },
          "execution_count": 31
        }
      ]
    },
    {
      "cell_type": "markdown",
      "metadata": {
        "id": "LCXlExzkyx_J"
      },
      "source": [
        "Очень сильно в отрицательную"
      ]
    },
    {
      "cell_type": "code",
      "metadata": {
        "colab": {
          "base_uri": "https://localhost:8080/"
        },
        "id": "6nmZVbLcrohX",
        "outputId": "d0ca0889-9ad7-4f6e-b0d3-243ec656cc3a"
      },
      "source": [
        "V_k_strong_minus"
      ],
      "execution_count": null,
      "outputs": [
        {
          "output_type": "execute_result",
          "data": {
            "text/plain": [
              "{0: [], 1: [], 2: [], 3: [], 4: [], 5: [], 6: [], 7: [], 8: []}"
            ]
          },
          "metadata": {
            "tags": []
          },
          "execution_count": 32
        }
      ]
    },
    {
      "cell_type": "markdown",
      "metadata": {
        "id": "o6eSdL66yz5H"
      },
      "source": [
        "### Описание на низком уровне"
      ]
    },
    {
      "cell_type": "markdown",
      "metadata": {
        "id": "GaZquhGay55r"
      },
      "source": [
        "Нулевой кластер имеет сильно большие GarageArea и SalePrice, чем в среднем по датасету\n",
        "\n",
        "Первый кластер имеет сильно большие LotArea, GarageArea, LotFrontage, чем в среднем и очень сильно больший SalePrice\n",
        "\n",
        "Второй кластер имеет очень сильно большие все фичи\n",
        "\n",
        "Третий кластер имеет все фичи средние по датасету\n",
        "\n",
        "Четвертый кластер имеет SalePrice сильно больше, чем в среднем, LotArea очень сильно больше и LotFrontage сильно меньше\n",
        "\n",
        "Пятый кластер имеет сильно меньшие LotArea, GarageArea, SalePrice\n",
        "\n",
        "Шестой кластер имеет все на среднем уровне\n",
        "\n",
        "Седьмой кластер имеет сильно большие GarageArea, LotFrontage, очень сильно больший SalePrice\n",
        "\n",
        "Восьмой кластер имеет сильно меньший SalePrice"
      ]
    },
    {
      "cell_type": "markdown",
      "metadata": {
        "id": "yiuMOIZ7z2iH"
      },
      "source": [
        "### Описание на более высоком уровне"
      ]
    },
    {
      "cell_type": "markdown",
      "metadata": {
        "id": "Fanq66db0AfC"
      },
      "source": [
        "Второй кластер имеет самые дорогие участки, \n",
        "Первый, четвертый, седьмой имеет участки примерно на следующем уровне по стоимости и размеру \n",
        "\n",
        "Нулевой кластер содержит участки следующего уровня, но все еще выше среднего\n",
        "\n",
        "Третий и шестой кластера имеют средние показатели\n",
        "\n",
        "Пятый и восьмой кластера содержат участки ниже среднего по размерам и стоимости\n",
        "\n"
      ]
    },
    {
      "cell_type": "markdown",
      "metadata": {
        "id": "i2QNieZB1oZj"
      },
      "source": [
        "### Сравнение"
      ]
    },
    {
      "cell_type": "markdown",
      "metadata": {
        "id": "J7CKsmHV1rEf"
      },
      "source": [
        "Логично, что K-means с 9 кластерами в состоянии разбить данные на больше классов, чем с 5 кластерами.\n",
        "\n",
        "При этом мне кажется, что 5 кластеров вполне достаточно, потому что они более наглядно показывают разницу между соответствующими кластерами\n",
        "\n",
        "Когда мы применяем на этих данных 9 кластеров, мы разбиваем на кластеры, которые начинают дублировать друг друга, поэтому мне кажется, что столько кластеров для такой простой задачи - перебор"
      ]
    },
    {
      "cell_type": "code",
      "metadata": {
        "colab": {
          "base_uri": "https://localhost:8080/",
          "height": 456
        },
        "id": "Fp3xDaQMrpyR",
        "outputId": "558c91be-4d77-40e9-e2fe-65d9f4ab39f4"
      },
      "source": [
        "data"
      ],
      "execution_count": null,
      "outputs": [
        {
          "output_type": "execute_result",
          "data": {
            "text/html": [
              "<div>\n",
              "<style scoped>\n",
              "    .dataframe tbody tr th:only-of-type {\n",
              "        vertical-align: middle;\n",
              "    }\n",
              "\n",
              "    .dataframe tbody tr th {\n",
              "        vertical-align: top;\n",
              "    }\n",
              "\n",
              "    .dataframe thead th {\n",
              "        text-align: right;\n",
              "    }\n",
              "</style>\n",
              "<table border=\"1\" class=\"dataframe\">\n",
              "  <thead>\n",
              "    <tr style=\"text-align: right;\">\n",
              "      <th></th>\n",
              "      <th>Unnamed: 0</th>\n",
              "      <th>LotArea</th>\n",
              "      <th>GarageArea</th>\n",
              "      <th>MSZoning</th>\n",
              "      <th>LotFrontage</th>\n",
              "      <th>Condition1</th>\n",
              "      <th>HouseStyle</th>\n",
              "      <th>SalePrice</th>\n",
              "      <th>YearBuilt</th>\n",
              "      <th>YrSold</th>\n",
              "      <th>Neighborhood</th>\n",
              "      <th>Label_5</th>\n",
              "      <th>Label_9</th>\n",
              "    </tr>\n",
              "  </thead>\n",
              "  <tbody>\n",
              "    <tr>\n",
              "      <th>0</th>\n",
              "      <td>479</td>\n",
              "      <td>5925</td>\n",
              "      <td>672</td>\n",
              "      <td>RM</td>\n",
              "      <td>50.0</td>\n",
              "      <td>Norm</td>\n",
              "      <td>1Story</td>\n",
              "      <td>89471</td>\n",
              "      <td>1937</td>\n",
              "      <td>2007</td>\n",
              "      <td>OldTown</td>\n",
              "      <td>1</td>\n",
              "      <td>5</td>\n",
              "    </tr>\n",
              "    <tr>\n",
              "      <th>1</th>\n",
              "      <td>793</td>\n",
              "      <td>9158</td>\n",
              "      <td>474</td>\n",
              "      <td>RL</td>\n",
              "      <td>76.0</td>\n",
              "      <td>Norm</td>\n",
              "      <td>1Story</td>\n",
              "      <td>225000</td>\n",
              "      <td>2007</td>\n",
              "      <td>2007</td>\n",
              "      <td>Somerst</td>\n",
              "      <td>3</td>\n",
              "      <td>0</td>\n",
              "    </tr>\n",
              "    <tr>\n",
              "      <th>2</th>\n",
              "      <td>339</td>\n",
              "      <td>12400</td>\n",
              "      <td>297</td>\n",
              "      <td>RL</td>\n",
              "      <td>66.0</td>\n",
              "      <td>Feedr</td>\n",
              "      <td>1Story</td>\n",
              "      <td>155000</td>\n",
              "      <td>1958</td>\n",
              "      <td>2009</td>\n",
              "      <td>NAmes</td>\n",
              "      <td>2</td>\n",
              "      <td>3</td>\n",
              "    </tr>\n",
              "    <tr>\n",
              "      <th>3</th>\n",
              "      <td>142</td>\n",
              "      <td>8520</td>\n",
              "      <td>720</td>\n",
              "      <td>RL</td>\n",
              "      <td>71.0</td>\n",
              "      <td>Artery</td>\n",
              "      <td>1.5Fin</td>\n",
              "      <td>166000</td>\n",
              "      <td>1952</td>\n",
              "      <td>2010</td>\n",
              "      <td>NAmes</td>\n",
              "      <td>2</td>\n",
              "      <td>3</td>\n",
              "    </tr>\n",
              "    <tr>\n",
              "      <th>4</th>\n",
              "      <td>1453</td>\n",
              "      <td>17217</td>\n",
              "      <td>0</td>\n",
              "      <td>RL</td>\n",
              "      <td>90.0</td>\n",
              "      <td>Norm</td>\n",
              "      <td>1Story</td>\n",
              "      <td>84500</td>\n",
              "      <td>2006</td>\n",
              "      <td>2006</td>\n",
              "      <td>Mitchel</td>\n",
              "      <td>1</td>\n",
              "      <td>5</td>\n",
              "    </tr>\n",
              "    <tr>\n",
              "      <th>...</th>\n",
              "      <td>...</td>\n",
              "      <td>...</td>\n",
              "      <td>...</td>\n",
              "      <td>...</td>\n",
              "      <td>...</td>\n",
              "      <td>...</td>\n",
              "      <td>...</td>\n",
              "      <td>...</td>\n",
              "      <td>...</td>\n",
              "      <td>...</td>\n",
              "      <td>...</td>\n",
              "      <td>...</td>\n",
              "      <td>...</td>\n",
              "    </tr>\n",
              "    <tr>\n",
              "      <th>1455</th>\n",
              "      <td>831</td>\n",
              "      <td>3180</td>\n",
              "      <td>480</td>\n",
              "      <td>FV</td>\n",
              "      <td>30.0</td>\n",
              "      <td>Norm</td>\n",
              "      <td>2Story</td>\n",
              "      <td>151000</td>\n",
              "      <td>2005</td>\n",
              "      <td>2006</td>\n",
              "      <td>Somerst</td>\n",
              "      <td>2</td>\n",
              "      <td>3</td>\n",
              "    </tr>\n",
              "    <tr>\n",
              "      <th>1456</th>\n",
              "      <td>522</td>\n",
              "      <td>5000</td>\n",
              "      <td>420</td>\n",
              "      <td>RM</td>\n",
              "      <td>50.0</td>\n",
              "      <td>Feedr</td>\n",
              "      <td>1.5Fin</td>\n",
              "      <td>159000</td>\n",
              "      <td>1947</td>\n",
              "      <td>2006</td>\n",
              "      <td>BrkSide</td>\n",
              "      <td>2</td>\n",
              "      <td>3</td>\n",
              "    </tr>\n",
              "    <tr>\n",
              "      <th>1457</th>\n",
              "      <td>1217</td>\n",
              "      <td>8640</td>\n",
              "      <td>552</td>\n",
              "      <td>FV</td>\n",
              "      <td>72.0</td>\n",
              "      <td>Norm</td>\n",
              "      <td>1Story</td>\n",
              "      <td>229456</td>\n",
              "      <td>2009</td>\n",
              "      <td>2009</td>\n",
              "      <td>Somerst</td>\n",
              "      <td>3</td>\n",
              "      <td>0</td>\n",
              "    </tr>\n",
              "    <tr>\n",
              "      <th>1458</th>\n",
              "      <td>162</td>\n",
              "      <td>12182</td>\n",
              "      <td>532</td>\n",
              "      <td>RL</td>\n",
              "      <td>95.0</td>\n",
              "      <td>Norm</td>\n",
              "      <td>1Story</td>\n",
              "      <td>220000</td>\n",
              "      <td>2005</td>\n",
              "      <td>2010</td>\n",
              "      <td>NridgHt</td>\n",
              "      <td>3</td>\n",
              "      <td>6</td>\n",
              "    </tr>\n",
              "    <tr>\n",
              "      <th>1459</th>\n",
              "      <td>852</td>\n",
              "      <td>7128</td>\n",
              "      <td>240</td>\n",
              "      <td>RL</td>\n",
              "      <td>53.0</td>\n",
              "      <td>Norm</td>\n",
              "      <td>2.5Unf</td>\n",
              "      <td>164000</td>\n",
              "      <td>1941</td>\n",
              "      <td>2007</td>\n",
              "      <td>Crawfor</td>\n",
              "      <td>2</td>\n",
              "      <td>3</td>\n",
              "    </tr>\n",
              "  </tbody>\n",
              "</table>\n",
              "<p>1460 rows × 13 columns</p>\n",
              "</div>"
            ],
            "text/plain": [
              "      Unnamed: 0  LotArea  GarageArea  ... Neighborhood  Label_5 Label_9\n",
              "0            479     5925         672  ...      OldTown        1       5\n",
              "1            793     9158         474  ...      Somerst        3       0\n",
              "2            339    12400         297  ...        NAmes        2       3\n",
              "3            142     8520         720  ...        NAmes        2       3\n",
              "4           1453    17217           0  ...      Mitchel        1       5\n",
              "...          ...      ...         ...  ...          ...      ...     ...\n",
              "1455         831     3180         480  ...      Somerst        2       3\n",
              "1456         522     5000         420  ...      BrkSide        2       3\n",
              "1457        1217     8640         552  ...      Somerst        3       0\n",
              "1458         162    12182         532  ...      NridgHt        3       6\n",
              "1459         852     7128         240  ...      Crawfor        2       3\n",
              "\n",
              "[1460 rows x 13 columns]"
            ]
          },
          "metadata": {
            "tags": []
          },
          "execution_count": 33
        }
      ]
    },
    {
      "cell_type": "code",
      "metadata": {
        "id": "I8akz7Qu2iz1"
      },
      "source": [
        "data.to_csv('data_clustered.csv')"
      ],
      "execution_count": null,
      "outputs": []
    },
    {
      "cell_type": "code",
      "metadata": {
        "id": "Jz6uA12h2pQb"
      },
      "source": [
        "#!cp data_clustered.csv drive/MyDrive/data_clustered.csv"
      ],
      "execution_count": null,
      "outputs": []
    }
  ]
}